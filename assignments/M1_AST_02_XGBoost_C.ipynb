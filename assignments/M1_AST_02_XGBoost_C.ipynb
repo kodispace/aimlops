{
 "cells": [
  {
   "cell_type": "markdown",
   "source": [
    "# Advanced Certification Programme in AI and MLOps\n",
    "## A programme by IISc and TalentSprint\n",
    "### Assignment 2: Extreme Gradient Boosting"
   ],
   "metadata": {
    "id": "PprHHREe8n5R"
   }
  },
  {
   "cell_type": "markdown",
   "source": [
    "## Learning Objectives:\n",
    "\n",
    "At the end of the experiment, you will be able to:\n",
    "\n",
    "*  perform preprocessing for different types of features\n",
    "*  build pipeline for preprocessing of features\n",
    "*  implement feature selection manually and automatically\n",
    "*  build an XG-Boost regressor model and check its performance"
   ],
   "metadata": {
    "id": "6Mxmt2UTIlPy"
   }
  },
  {
   "cell_type": "markdown",
   "source": [
    "## Introduction\n",
    "\n",
    "Predicting house prices is helpful to identify profitable investments or to determine whether the price advertised is over or under-estimated. Here, we will build an ML model to predict the sale price of homes based on different explanatory variables describing the aspects of residential houses."
   ],
   "metadata": {
    "id": "auIFJoV_C0-M"
   }
  },
  {
   "cell_type": "markdown",
   "source": [
    "## Dataset\n",
    "\n",
    "The dataset chosen is a [Housing dataset](https://www.kaggle.com/c/house-prices-advanced-regression-techniques/data) containing 79 features, one target feature (`SalePrice`), and 1460 samples. Visit the data source to understand each feature/column. Download the 'data_description.txt' file, which gives a full description."
   ],
   "metadata": {
    "id": "8LK-C5VcAcPG"
   }
  },
  {
   "cell_type": "markdown",
   "metadata": {
    "id": "RVF-O0dYjUZu"
   },
   "source": [
    "### Setup Steps:"
   ]
  },
  {
   "cell_type": "code",
   "metadata": {
    "id": "2YzfoPvJDiTX",
    "ExecuteTime": {
     "end_time": "2024-07-06T15:18:52.232927Z",
     "start_time": "2024-07-06T15:18:52.230745Z"
    }
   },
   "source": [
    "#@title Please enter your registration id to start: { run: \"auto\", display-mode: \"form\" }\n",
    "Id = \"\" #@param {type:\"string\"}"
   ],
   "outputs": [],
   "execution_count": 6
  },
  {
   "cell_type": "code",
   "metadata": {
    "id": "AjoZJWGErxGf",
    "ExecuteTime": {
     "end_time": "2024-07-06T15:18:52.481860Z",
     "start_time": "2024-07-06T15:18:52.479892Z"
    }
   },
   "source": [
    "#@title Please enter your password (your registered phone number) to continue: { run: \"auto\", display-mode: \"form\" }\n",
    "password = \"\" #@param {type:\"string\"}"
   ],
   "outputs": [],
   "execution_count": 7
  },
  {
   "cell_type": "code",
   "metadata": {
    "cellView": "form",
    "id": "WBPPuGmBlDIN",
    "ExecuteTime": {
     "end_time": "2024-07-06T15:18:52.714205Z",
     "start_time": "2024-07-06T15:18:52.707970Z"
    }
   },
   "source": [
    "#@title Run this cell to complete the setup for this Notebook\n",
    "from IPython import get_ipython\n",
    "\n",
    "ipython = get_ipython()\n",
    "\n",
    "notebook= \"M1_AST_02_XGBoost_C\" #name of the notebook\n",
    "\n",
    "def setup():\n",
    "#  ipython.magic(\"sx pip3 install torch\")\n",
    "\n",
    "    ipython.magic(\"sx wget https://cdn.iisc.talentsprint.com/AIandMLOps/Datasets/housing_dataset.csv\")\n",
    "    from IPython.display import HTML, display\n",
    "    display(HTML('<script src=\"https://dashboard.talentsprint.com/aiml/record_ip.html?traineeId={0}&recordId={1}\"></script>'.format(getId(),submission_id)))\n",
    "    print(\"Setup completed successfully\")\n",
    "    return\n",
    "\n",
    "def submit_notebook():\n",
    "    ipython.magic(\"notebook -e \"+ notebook + \".ipynb\")\n",
    "\n",
    "    import requests, json, base64, datetime\n",
    "\n",
    "    url = \"https://dashboard.talentsprint.com/xp/app/save_notebook_attempts\"\n",
    "    if not submission_id:\n",
    "      data = {\"id\" : getId(), \"notebook\" : notebook, \"mobile\" : getPassword()}\n",
    "      r = requests.post(url, data = data)\n",
    "      r = json.loads(r.text)\n",
    "\n",
    "      if r[\"status\"] == \"Success\":\n",
    "          return r[\"record_id\"]\n",
    "      elif \"err\" in r:\n",
    "        print(r[\"err\"])\n",
    "        return None\n",
    "      else:\n",
    "        print (\"Something is wrong, the notebook will not be submitted for grading\")\n",
    "        return None\n",
    "\n",
    "    elif getAnswer() and getComplexity() and getAdditional() and getConcepts() and getComments() and getMentorSupport():\n",
    "      f = open(notebook + \".ipynb\", \"rb\")\n",
    "      file_hash = base64.b64encode(f.read())\n",
    "\n",
    "      data = {\"complexity\" : Complexity, \"additional\" :Additional,\n",
    "              \"concepts\" : Concepts, \"record_id\" : submission_id,\n",
    "              \"answer\" : Answer, \"id\" : Id, \"file_hash\" : file_hash,\n",
    "              \"notebook\" : notebook,\n",
    "              \"feedback_experiments_input\" : Comments,\n",
    "              \"feedback_mentor_support\": Mentor_support}\n",
    "      r = requests.post(url, data = data)\n",
    "      r = json.loads(r.text)\n",
    "      if \"err\" in r:\n",
    "        print(r[\"err\"])\n",
    "        return None\n",
    "      else:\n",
    "        print(\"Your submission is successful.\")\n",
    "        print(\"Ref Id:\", submission_id)\n",
    "        print(\"Date of submission: \", r[\"date\"])\n",
    "        print(\"Time of submission: \", r[\"time\"])\n",
    "        print(\"View your submissions: https://aimlops-iisc.talentsprint.com/notebook_submissions\")\n",
    "        #print(\"For any queries/discrepancies, please connect with mentors through the chat icon in LMS dashboard.\")\n",
    "        return submission_id\n",
    "    else: submission_id\n",
    "\n",
    "\n",
    "def getAdditional():\n",
    "  try:\n",
    "    if not Additional:\n",
    "      raise NameError\n",
    "    else:\n",
    "      return Additional\n",
    "  except NameError:\n",
    "    print (\"Please answer Additional Question\")\n",
    "    return None\n",
    "\n",
    "def getComplexity():\n",
    "  try:\n",
    "    if not Complexity:\n",
    "      raise NameError\n",
    "    else:\n",
    "      return Complexity\n",
    "  except NameError:\n",
    "    print (\"Please answer Complexity Question\")\n",
    "    return None\n",
    "\n",
    "def getConcepts():\n",
    "  try:\n",
    "    if not Concepts:\n",
    "      raise NameError\n",
    "    else:\n",
    "      return Concepts\n",
    "  except NameError:\n",
    "    print (\"Please answer Concepts Question\")\n",
    "    return None\n",
    "\n",
    "\n",
    "# def getWalkthrough():\n",
    "#   try:\n",
    "#     if not Walkthrough:\n",
    "#       raise NameError\n",
    "#     else:\n",
    "#       return Walkthrough\n",
    "#   except NameError:\n",
    "#     print (\"Please answer Walkthrough Question\")\n",
    "#     return None\n",
    "\n",
    "def getComments():\n",
    "  try:\n",
    "    if not Comments:\n",
    "      raise NameError\n",
    "    else:\n",
    "      return Comments\n",
    "  except NameError:\n",
    "    print (\"Please answer Comments Question\")\n",
    "    return None\n",
    "\n",
    "\n",
    "def getMentorSupport():\n",
    "  try:\n",
    "    if not Mentor_support:\n",
    "      raise NameError\n",
    "    else:\n",
    "      return Mentor_support\n",
    "  except NameError:\n",
    "    print (\"Please answer Mentor support Question\")\n",
    "    return None\n",
    "\n",
    "def getAnswer():\n",
    "  try:\n",
    "    if not Answer:\n",
    "      raise NameError\n",
    "    else:\n",
    "      return Answer\n",
    "  except NameError:\n",
    "    print (\"Please answer Question\")\n",
    "    return None\n",
    "\n",
    "\n",
    "def getId():\n",
    "  try:\n",
    "    return Id if Id else None\n",
    "  except NameError:\n",
    "    return None\n",
    "\n",
    "def getPassword():\n",
    "  try:\n",
    "    return password if password else None\n",
    "  except NameError:\n",
    "    return None\n",
    "\n",
    "submission_id = None\n",
    "### Setup\n",
    "if getPassword() and getId():\n",
    "  submission_id = submit_notebook()\n",
    "  if submission_id:\n",
    "    setup()\n",
    "else:\n",
    "  print (\"Please complete Id and Password cells before running setup\")\n",
    "\n"
   ],
   "outputs": [
    {
     "name": "stdout",
     "output_type": "stream",
     "text": [
      "Please complete Id and Password cells before running setup\n"
     ]
    }
   ],
   "execution_count": 8
  },
  {
   "cell_type": "markdown",
   "source": [
    "### Install XG-Boost and feature_engine library"
   ],
   "metadata": {
    "id": "m1lCya9WKEmv"
   }
  },
  {
   "cell_type": "code",
   "source": [
    "!pip -q install xgboost\n",
    "!pip -q install feature_engine"
   ],
   "metadata": {
    "id": "Wj8HDV2hVT-a",
    "ExecuteTime": {
     "end_time": "2024-07-06T15:18:53.434230Z",
     "start_time": "2024-07-06T15:18:53.201532Z"
    }
   },
   "outputs": [
    {
     "name": "stdout",
     "output_type": "stream",
     "text": [
      "zsh:1: command not found: pip\r\n",
      "zsh:1: command not found: pip\r\n"
     ]
    }
   ],
   "execution_count": 9
  },
  {
   "cell_type": "markdown",
   "source": [
    "Ignore the above warning."
   ],
   "metadata": {
    "id": "At96tBpLXC2y"
   }
  },
  {
   "cell_type": "markdown",
   "source": [
    "### Import required packages"
   ],
   "metadata": {
    "id": "kwDH0TpbKn70"
   }
  },
  {
   "cell_type": "code",
   "metadata": {
    "id": "-5dmv4mQRi5X",
    "ExecuteTime": {
     "end_time": "2024-07-06T15:18:57.916584Z",
     "start_time": "2024-07-06T15:18:57.716982Z"
    }
   },
   "source": [
    "from math import sqrt\n",
    "import pandas as pd\n",
    "import numpy as np\n",
    "import matplotlib.pyplot as plt\n",
    "import seaborn as sns\n",
    "import xgboost as xgb\n",
    "from sklearn.model_selection import train_test_split\n",
    "from sklearn.pipeline import Pipeline\n",
    "from sklearn.impute  import SimpleImputer\n",
    "from sklearn.preprocessing import OrdinalEncoder as OrdinalEncoder_Sk\n",
    "from sklearn.feature_selection import SelectFromModel\n",
    "from sklearn.metrics import mean_squared_error, r2_score\n",
    "\n",
    "from feature_engine.imputation import ArbitraryNumberImputer, CategoricalImputer\n",
    "\n",
    "from feature_engine.encoding import RareLabelEncoder,OrdinalEncoder\n",
    "from feature_engine.selection import DropFeatures\n",
    "\n",
    "# to visualise all the columns and upto 100 rows in the dataframe\n",
    "pd.set_option('display.max_columns', None)\n",
    "pd.set_option(\"display.max_rows\", 100)\n",
    "\n",
    "# for supressing warnings\n",
    "import warnings\n",
    "warnings.filterwarnings('ignore')"
   ],
   "outputs": [
    {
     "ename": "ModuleNotFoundError",
     "evalue": "No module named 'matplotlib'",
     "output_type": "error",
     "traceback": [
      "\u001B[0;31m---------------------------------------------------------------------------\u001B[0m",
      "\u001B[0;31mModuleNotFoundError\u001B[0m                       Traceback (most recent call last)",
      "Cell \u001B[0;32mIn[10], line 4\u001B[0m\n\u001B[1;32m      2\u001B[0m \u001B[38;5;28;01mimport\u001B[39;00m \u001B[38;5;21;01mpandas\u001B[39;00m \u001B[38;5;28;01mas\u001B[39;00m \u001B[38;5;21;01mpd\u001B[39;00m\n\u001B[1;32m      3\u001B[0m \u001B[38;5;28;01mimport\u001B[39;00m \u001B[38;5;21;01mnumpy\u001B[39;00m \u001B[38;5;28;01mas\u001B[39;00m \u001B[38;5;21;01mnp\u001B[39;00m\n\u001B[0;32m----> 4\u001B[0m \u001B[38;5;28;01mimport\u001B[39;00m \u001B[38;5;21;01mmatplotlib\u001B[39;00m\u001B[38;5;21;01m.\u001B[39;00m\u001B[38;5;21;01mpyplot\u001B[39;00m \u001B[38;5;28;01mas\u001B[39;00m \u001B[38;5;21;01mplt\u001B[39;00m\n\u001B[1;32m      5\u001B[0m \u001B[38;5;28;01mimport\u001B[39;00m \u001B[38;5;21;01mseaborn\u001B[39;00m \u001B[38;5;28;01mas\u001B[39;00m \u001B[38;5;21;01msns\u001B[39;00m\n\u001B[1;32m      6\u001B[0m \u001B[38;5;28;01mimport\u001B[39;00m \u001B[38;5;21;01mxgboost\u001B[39;00m \u001B[38;5;28;01mas\u001B[39;00m \u001B[38;5;21;01mxgb\u001B[39;00m\n",
      "\u001B[0;31mModuleNotFoundError\u001B[0m: No module named 'matplotlib'"
     ]
    }
   ],
   "execution_count": 10
  },
  {
   "cell_type": "markdown",
   "source": [
    "### Load the data"
   ],
   "metadata": {
    "id": "32IuzBpNLfYc"
   }
  },
  {
   "cell_type": "code",
   "source": [
    "data = pd.read_csv('housing_dataset.csv')\n",
    "print(data.shape)\n",
    "data.head()"
   ],
   "metadata": {
    "id": "JaylWUE2SwIw",
    "ExecuteTime": {
     "end_time": "2024-07-06T15:18:59.543193Z",
     "start_time": "2024-07-06T15:18:59.423371Z"
    }
   },
   "outputs": [
    {
     "ename": "FileNotFoundError",
     "evalue": "[Errno 2] No such file or directory: 'housing_dataset.csv'",
     "output_type": "error",
     "traceback": [
      "\u001B[0;31m---------------------------------------------------------------------------\u001B[0m",
      "\u001B[0;31mFileNotFoundError\u001B[0m                         Traceback (most recent call last)",
      "Cell \u001B[0;32mIn[11], line 1\u001B[0m\n\u001B[0;32m----> 1\u001B[0m data \u001B[38;5;241m=\u001B[39m \u001B[43mpd\u001B[49m\u001B[38;5;241;43m.\u001B[39;49m\u001B[43mread_csv\u001B[49m\u001B[43m(\u001B[49m\u001B[38;5;124;43m'\u001B[39;49m\u001B[38;5;124;43mhousing_dataset.csv\u001B[39;49m\u001B[38;5;124;43m'\u001B[39;49m\u001B[43m)\u001B[49m\n\u001B[1;32m      2\u001B[0m \u001B[38;5;28mprint\u001B[39m(data\u001B[38;5;241m.\u001B[39mshape)\n\u001B[1;32m      3\u001B[0m data\u001B[38;5;241m.\u001B[39mhead()\n",
      "File \u001B[0;32m/Library/Frameworks/Python.framework/Versions/3.11/lib/python3.11/site-packages/pandas/util/_decorators.py:211\u001B[0m, in \u001B[0;36mdeprecate_kwarg.<locals>._deprecate_kwarg.<locals>.wrapper\u001B[0;34m(*args, **kwargs)\u001B[0m\n\u001B[1;32m    209\u001B[0m     \u001B[38;5;28;01melse\u001B[39;00m:\n\u001B[1;32m    210\u001B[0m         kwargs[new_arg_name] \u001B[38;5;241m=\u001B[39m new_arg_value\n\u001B[0;32m--> 211\u001B[0m \u001B[38;5;28;01mreturn\u001B[39;00m \u001B[43mfunc\u001B[49m\u001B[43m(\u001B[49m\u001B[38;5;241;43m*\u001B[39;49m\u001B[43margs\u001B[49m\u001B[43m,\u001B[49m\u001B[43m \u001B[49m\u001B[38;5;241;43m*\u001B[39;49m\u001B[38;5;241;43m*\u001B[39;49m\u001B[43mkwargs\u001B[49m\u001B[43m)\u001B[49m\n",
      "File \u001B[0;32m/Library/Frameworks/Python.framework/Versions/3.11/lib/python3.11/site-packages/pandas/util/_decorators.py:331\u001B[0m, in \u001B[0;36mdeprecate_nonkeyword_arguments.<locals>.decorate.<locals>.wrapper\u001B[0;34m(*args, **kwargs)\u001B[0m\n\u001B[1;32m    325\u001B[0m \u001B[38;5;28;01mif\u001B[39;00m \u001B[38;5;28mlen\u001B[39m(args) \u001B[38;5;241m>\u001B[39m num_allow_args:\n\u001B[1;32m    326\u001B[0m     warnings\u001B[38;5;241m.\u001B[39mwarn(\n\u001B[1;32m    327\u001B[0m         msg\u001B[38;5;241m.\u001B[39mformat(arguments\u001B[38;5;241m=\u001B[39m_format_argument_list(allow_args)),\n\u001B[1;32m    328\u001B[0m         \u001B[38;5;167;01mFutureWarning\u001B[39;00m,\n\u001B[1;32m    329\u001B[0m         stacklevel\u001B[38;5;241m=\u001B[39mfind_stack_level(),\n\u001B[1;32m    330\u001B[0m     )\n\u001B[0;32m--> 331\u001B[0m \u001B[38;5;28;01mreturn\u001B[39;00m \u001B[43mfunc\u001B[49m\u001B[43m(\u001B[49m\u001B[38;5;241;43m*\u001B[39;49m\u001B[43margs\u001B[49m\u001B[43m,\u001B[49m\u001B[43m \u001B[49m\u001B[38;5;241;43m*\u001B[39;49m\u001B[38;5;241;43m*\u001B[39;49m\u001B[43mkwargs\u001B[49m\u001B[43m)\u001B[49m\n",
      "File \u001B[0;32m/Library/Frameworks/Python.framework/Versions/3.11/lib/python3.11/site-packages/pandas/io/parsers/readers.py:950\u001B[0m, in \u001B[0;36mread_csv\u001B[0;34m(filepath_or_buffer, sep, delimiter, header, names, index_col, usecols, squeeze, prefix, mangle_dupe_cols, dtype, engine, converters, true_values, false_values, skipinitialspace, skiprows, skipfooter, nrows, na_values, keep_default_na, na_filter, verbose, skip_blank_lines, parse_dates, infer_datetime_format, keep_date_col, date_parser, dayfirst, cache_dates, iterator, chunksize, compression, thousands, decimal, lineterminator, quotechar, quoting, doublequote, escapechar, comment, encoding, encoding_errors, dialect, error_bad_lines, warn_bad_lines, on_bad_lines, delim_whitespace, low_memory, memory_map, float_precision, storage_options)\u001B[0m\n\u001B[1;32m    935\u001B[0m kwds_defaults \u001B[38;5;241m=\u001B[39m _refine_defaults_read(\n\u001B[1;32m    936\u001B[0m     dialect,\n\u001B[1;32m    937\u001B[0m     delimiter,\n\u001B[0;32m   (...)\u001B[0m\n\u001B[1;32m    946\u001B[0m     defaults\u001B[38;5;241m=\u001B[39m{\u001B[38;5;124m\"\u001B[39m\u001B[38;5;124mdelimiter\u001B[39m\u001B[38;5;124m\"\u001B[39m: \u001B[38;5;124m\"\u001B[39m\u001B[38;5;124m,\u001B[39m\u001B[38;5;124m\"\u001B[39m},\n\u001B[1;32m    947\u001B[0m )\n\u001B[1;32m    948\u001B[0m kwds\u001B[38;5;241m.\u001B[39mupdate(kwds_defaults)\n\u001B[0;32m--> 950\u001B[0m \u001B[38;5;28;01mreturn\u001B[39;00m \u001B[43m_read\u001B[49m\u001B[43m(\u001B[49m\u001B[43mfilepath_or_buffer\u001B[49m\u001B[43m,\u001B[49m\u001B[43m \u001B[49m\u001B[43mkwds\u001B[49m\u001B[43m)\u001B[49m\n",
      "File \u001B[0;32m/Library/Frameworks/Python.framework/Versions/3.11/lib/python3.11/site-packages/pandas/io/parsers/readers.py:605\u001B[0m, in \u001B[0;36m_read\u001B[0;34m(filepath_or_buffer, kwds)\u001B[0m\n\u001B[1;32m    602\u001B[0m _validate_names(kwds\u001B[38;5;241m.\u001B[39mget(\u001B[38;5;124m\"\u001B[39m\u001B[38;5;124mnames\u001B[39m\u001B[38;5;124m\"\u001B[39m, \u001B[38;5;28;01mNone\u001B[39;00m))\n\u001B[1;32m    604\u001B[0m \u001B[38;5;66;03m# Create the parser.\u001B[39;00m\n\u001B[0;32m--> 605\u001B[0m parser \u001B[38;5;241m=\u001B[39m \u001B[43mTextFileReader\u001B[49m\u001B[43m(\u001B[49m\u001B[43mfilepath_or_buffer\u001B[49m\u001B[43m,\u001B[49m\u001B[43m \u001B[49m\u001B[38;5;241;43m*\u001B[39;49m\u001B[38;5;241;43m*\u001B[39;49m\u001B[43mkwds\u001B[49m\u001B[43m)\u001B[49m\n\u001B[1;32m    607\u001B[0m \u001B[38;5;28;01mif\u001B[39;00m chunksize \u001B[38;5;129;01mor\u001B[39;00m iterator:\n\u001B[1;32m    608\u001B[0m     \u001B[38;5;28;01mreturn\u001B[39;00m parser\n",
      "File \u001B[0;32m/Library/Frameworks/Python.framework/Versions/3.11/lib/python3.11/site-packages/pandas/io/parsers/readers.py:1442\u001B[0m, in \u001B[0;36mTextFileReader.__init__\u001B[0;34m(self, f, engine, **kwds)\u001B[0m\n\u001B[1;32m   1439\u001B[0m     \u001B[38;5;28mself\u001B[39m\u001B[38;5;241m.\u001B[39moptions[\u001B[38;5;124m\"\u001B[39m\u001B[38;5;124mhas_index_names\u001B[39m\u001B[38;5;124m\"\u001B[39m] \u001B[38;5;241m=\u001B[39m kwds[\u001B[38;5;124m\"\u001B[39m\u001B[38;5;124mhas_index_names\u001B[39m\u001B[38;5;124m\"\u001B[39m]\n\u001B[1;32m   1441\u001B[0m \u001B[38;5;28mself\u001B[39m\u001B[38;5;241m.\u001B[39mhandles: IOHandles \u001B[38;5;241m|\u001B[39m \u001B[38;5;28;01mNone\u001B[39;00m \u001B[38;5;241m=\u001B[39m \u001B[38;5;28;01mNone\u001B[39;00m\n\u001B[0;32m-> 1442\u001B[0m \u001B[38;5;28mself\u001B[39m\u001B[38;5;241m.\u001B[39m_engine \u001B[38;5;241m=\u001B[39m \u001B[38;5;28;43mself\u001B[39;49m\u001B[38;5;241;43m.\u001B[39;49m\u001B[43m_make_engine\u001B[49m\u001B[43m(\u001B[49m\u001B[43mf\u001B[49m\u001B[43m,\u001B[49m\u001B[43m \u001B[49m\u001B[38;5;28;43mself\u001B[39;49m\u001B[38;5;241;43m.\u001B[39;49m\u001B[43mengine\u001B[49m\u001B[43m)\u001B[49m\n",
      "File \u001B[0;32m/Library/Frameworks/Python.framework/Versions/3.11/lib/python3.11/site-packages/pandas/io/parsers/readers.py:1735\u001B[0m, in \u001B[0;36mTextFileReader._make_engine\u001B[0;34m(self, f, engine)\u001B[0m\n\u001B[1;32m   1733\u001B[0m     \u001B[38;5;28;01mif\u001B[39;00m \u001B[38;5;124m\"\u001B[39m\u001B[38;5;124mb\u001B[39m\u001B[38;5;124m\"\u001B[39m \u001B[38;5;129;01mnot\u001B[39;00m \u001B[38;5;129;01min\u001B[39;00m mode:\n\u001B[1;32m   1734\u001B[0m         mode \u001B[38;5;241m+\u001B[39m\u001B[38;5;241m=\u001B[39m \u001B[38;5;124m\"\u001B[39m\u001B[38;5;124mb\u001B[39m\u001B[38;5;124m\"\u001B[39m\n\u001B[0;32m-> 1735\u001B[0m \u001B[38;5;28mself\u001B[39m\u001B[38;5;241m.\u001B[39mhandles \u001B[38;5;241m=\u001B[39m \u001B[43mget_handle\u001B[49m\u001B[43m(\u001B[49m\n\u001B[1;32m   1736\u001B[0m \u001B[43m    \u001B[49m\u001B[43mf\u001B[49m\u001B[43m,\u001B[49m\n\u001B[1;32m   1737\u001B[0m \u001B[43m    \u001B[49m\u001B[43mmode\u001B[49m\u001B[43m,\u001B[49m\n\u001B[1;32m   1738\u001B[0m \u001B[43m    \u001B[49m\u001B[43mencoding\u001B[49m\u001B[38;5;241;43m=\u001B[39;49m\u001B[38;5;28;43mself\u001B[39;49m\u001B[38;5;241;43m.\u001B[39;49m\u001B[43moptions\u001B[49m\u001B[38;5;241;43m.\u001B[39;49m\u001B[43mget\u001B[49m\u001B[43m(\u001B[49m\u001B[38;5;124;43m\"\u001B[39;49m\u001B[38;5;124;43mencoding\u001B[39;49m\u001B[38;5;124;43m\"\u001B[39;49m\u001B[43m,\u001B[49m\u001B[43m \u001B[49m\u001B[38;5;28;43;01mNone\u001B[39;49;00m\u001B[43m)\u001B[49m\u001B[43m,\u001B[49m\n\u001B[1;32m   1739\u001B[0m \u001B[43m    \u001B[49m\u001B[43mcompression\u001B[49m\u001B[38;5;241;43m=\u001B[39;49m\u001B[38;5;28;43mself\u001B[39;49m\u001B[38;5;241;43m.\u001B[39;49m\u001B[43moptions\u001B[49m\u001B[38;5;241;43m.\u001B[39;49m\u001B[43mget\u001B[49m\u001B[43m(\u001B[49m\u001B[38;5;124;43m\"\u001B[39;49m\u001B[38;5;124;43mcompression\u001B[39;49m\u001B[38;5;124;43m\"\u001B[39;49m\u001B[43m,\u001B[49m\u001B[43m \u001B[49m\u001B[38;5;28;43;01mNone\u001B[39;49;00m\u001B[43m)\u001B[49m\u001B[43m,\u001B[49m\n\u001B[1;32m   1740\u001B[0m \u001B[43m    \u001B[49m\u001B[43mmemory_map\u001B[49m\u001B[38;5;241;43m=\u001B[39;49m\u001B[38;5;28;43mself\u001B[39;49m\u001B[38;5;241;43m.\u001B[39;49m\u001B[43moptions\u001B[49m\u001B[38;5;241;43m.\u001B[39;49m\u001B[43mget\u001B[49m\u001B[43m(\u001B[49m\u001B[38;5;124;43m\"\u001B[39;49m\u001B[38;5;124;43mmemory_map\u001B[39;49m\u001B[38;5;124;43m\"\u001B[39;49m\u001B[43m,\u001B[49m\u001B[43m \u001B[49m\u001B[38;5;28;43;01mFalse\u001B[39;49;00m\u001B[43m)\u001B[49m\u001B[43m,\u001B[49m\n\u001B[1;32m   1741\u001B[0m \u001B[43m    \u001B[49m\u001B[43mis_text\u001B[49m\u001B[38;5;241;43m=\u001B[39;49m\u001B[43mis_text\u001B[49m\u001B[43m,\u001B[49m\n\u001B[1;32m   1742\u001B[0m \u001B[43m    \u001B[49m\u001B[43merrors\u001B[49m\u001B[38;5;241;43m=\u001B[39;49m\u001B[38;5;28;43mself\u001B[39;49m\u001B[38;5;241;43m.\u001B[39;49m\u001B[43moptions\u001B[49m\u001B[38;5;241;43m.\u001B[39;49m\u001B[43mget\u001B[49m\u001B[43m(\u001B[49m\u001B[38;5;124;43m\"\u001B[39;49m\u001B[38;5;124;43mencoding_errors\u001B[39;49m\u001B[38;5;124;43m\"\u001B[39;49m\u001B[43m,\u001B[49m\u001B[43m \u001B[49m\u001B[38;5;124;43m\"\u001B[39;49m\u001B[38;5;124;43mstrict\u001B[39;49m\u001B[38;5;124;43m\"\u001B[39;49m\u001B[43m)\u001B[49m\u001B[43m,\u001B[49m\n\u001B[1;32m   1743\u001B[0m \u001B[43m    \u001B[49m\u001B[43mstorage_options\u001B[49m\u001B[38;5;241;43m=\u001B[39;49m\u001B[38;5;28;43mself\u001B[39;49m\u001B[38;5;241;43m.\u001B[39;49m\u001B[43moptions\u001B[49m\u001B[38;5;241;43m.\u001B[39;49m\u001B[43mget\u001B[49m\u001B[43m(\u001B[49m\u001B[38;5;124;43m\"\u001B[39;49m\u001B[38;5;124;43mstorage_options\u001B[39;49m\u001B[38;5;124;43m\"\u001B[39;49m\u001B[43m,\u001B[49m\u001B[43m \u001B[49m\u001B[38;5;28;43;01mNone\u001B[39;49;00m\u001B[43m)\u001B[49m\u001B[43m,\u001B[49m\n\u001B[1;32m   1744\u001B[0m \u001B[43m\u001B[49m\u001B[43m)\u001B[49m\n\u001B[1;32m   1745\u001B[0m \u001B[38;5;28;01massert\u001B[39;00m \u001B[38;5;28mself\u001B[39m\u001B[38;5;241m.\u001B[39mhandles \u001B[38;5;129;01mis\u001B[39;00m \u001B[38;5;129;01mnot\u001B[39;00m \u001B[38;5;28;01mNone\u001B[39;00m\n\u001B[1;32m   1746\u001B[0m f \u001B[38;5;241m=\u001B[39m \u001B[38;5;28mself\u001B[39m\u001B[38;5;241m.\u001B[39mhandles\u001B[38;5;241m.\u001B[39mhandle\n",
      "File \u001B[0;32m/Library/Frameworks/Python.framework/Versions/3.11/lib/python3.11/site-packages/pandas/io/common.py:856\u001B[0m, in \u001B[0;36mget_handle\u001B[0;34m(path_or_buf, mode, encoding, compression, memory_map, is_text, errors, storage_options)\u001B[0m\n\u001B[1;32m    851\u001B[0m \u001B[38;5;28;01melif\u001B[39;00m \u001B[38;5;28misinstance\u001B[39m(handle, \u001B[38;5;28mstr\u001B[39m):\n\u001B[1;32m    852\u001B[0m     \u001B[38;5;66;03m# Check whether the filename is to be opened in binary mode.\u001B[39;00m\n\u001B[1;32m    853\u001B[0m     \u001B[38;5;66;03m# Binary mode does not support 'encoding' and 'newline'.\u001B[39;00m\n\u001B[1;32m    854\u001B[0m     \u001B[38;5;28;01mif\u001B[39;00m ioargs\u001B[38;5;241m.\u001B[39mencoding \u001B[38;5;129;01mand\u001B[39;00m \u001B[38;5;124m\"\u001B[39m\u001B[38;5;124mb\u001B[39m\u001B[38;5;124m\"\u001B[39m \u001B[38;5;129;01mnot\u001B[39;00m \u001B[38;5;129;01min\u001B[39;00m ioargs\u001B[38;5;241m.\u001B[39mmode:\n\u001B[1;32m    855\u001B[0m         \u001B[38;5;66;03m# Encoding\u001B[39;00m\n\u001B[0;32m--> 856\u001B[0m         handle \u001B[38;5;241m=\u001B[39m \u001B[38;5;28;43mopen\u001B[39;49m\u001B[43m(\u001B[49m\n\u001B[1;32m    857\u001B[0m \u001B[43m            \u001B[49m\u001B[43mhandle\u001B[49m\u001B[43m,\u001B[49m\n\u001B[1;32m    858\u001B[0m \u001B[43m            \u001B[49m\u001B[43mioargs\u001B[49m\u001B[38;5;241;43m.\u001B[39;49m\u001B[43mmode\u001B[49m\u001B[43m,\u001B[49m\n\u001B[1;32m    859\u001B[0m \u001B[43m            \u001B[49m\u001B[43mencoding\u001B[49m\u001B[38;5;241;43m=\u001B[39;49m\u001B[43mioargs\u001B[49m\u001B[38;5;241;43m.\u001B[39;49m\u001B[43mencoding\u001B[49m\u001B[43m,\u001B[49m\n\u001B[1;32m    860\u001B[0m \u001B[43m            \u001B[49m\u001B[43merrors\u001B[49m\u001B[38;5;241;43m=\u001B[39;49m\u001B[43merrors\u001B[49m\u001B[43m,\u001B[49m\n\u001B[1;32m    861\u001B[0m \u001B[43m            \u001B[49m\u001B[43mnewline\u001B[49m\u001B[38;5;241;43m=\u001B[39;49m\u001B[38;5;124;43m\"\u001B[39;49m\u001B[38;5;124;43m\"\u001B[39;49m\u001B[43m,\u001B[49m\n\u001B[1;32m    862\u001B[0m \u001B[43m        \u001B[49m\u001B[43m)\u001B[49m\n\u001B[1;32m    863\u001B[0m     \u001B[38;5;28;01melse\u001B[39;00m:\n\u001B[1;32m    864\u001B[0m         \u001B[38;5;66;03m# Binary mode\u001B[39;00m\n\u001B[1;32m    865\u001B[0m         handle \u001B[38;5;241m=\u001B[39m \u001B[38;5;28mopen\u001B[39m(handle, ioargs\u001B[38;5;241m.\u001B[39mmode)\n",
      "\u001B[0;31mFileNotFoundError\u001B[0m: [Errno 2] No such file or directory: 'housing_dataset.csv'"
     ]
    }
   ],
   "execution_count": 11
  },
  {
   "cell_type": "markdown",
   "source": [
    "## Exploratory Data Analysis"
   ],
   "metadata": {
    "id": "zUXr9yL2CZwt"
   }
  },
  {
   "cell_type": "markdown",
   "source": [
    "Check the information of the dataframe regarding number of rows and columns, any null values, data types, etc."
   ],
   "metadata": {
    "id": "Hn4l_WHP7Lss"
   }
  },
  {
   "cell_type": "code",
   "source": [
    "data.info()"
   ],
   "metadata": {
    "id": "E8FIqK5f54wN",
    "ExecuteTime": {
     "end_time": "2024-07-06T15:19:01.297945Z",
     "start_time": "2024-07-06T15:19:01.286949Z"
    }
   },
   "outputs": [
    {
     "ename": "NameError",
     "evalue": "name 'data' is not defined",
     "output_type": "error",
     "traceback": [
      "\u001B[0;31m---------------------------------------------------------------------------\u001B[0m",
      "\u001B[0;31mNameError\u001B[0m                                 Traceback (most recent call last)",
      "Cell \u001B[0;32mIn[12], line 1\u001B[0m\n\u001B[0;32m----> 1\u001B[0m \u001B[43mdata\u001B[49m\u001B[38;5;241m.\u001B[39minfo()\n",
      "\u001B[0;31mNameError\u001B[0m: name 'data' is not defined"
     ]
    }
   ],
   "execution_count": 12
  },
  {
   "cell_type": "markdown",
   "source": [
    "### Summarising the Data\n",
    "\n",
    "The following cell displays the types of features, the number of unique entries, and the percentage of Null entries in each feature column."
   ],
   "metadata": {
    "id": "wIZp5LNlSJN4"
   }
  },
  {
   "cell_type": "code",
   "source": [
    "summary = pd.DataFrame(data.dtypes, columns=['dtype'])\n",
    "summary = summary.reset_index()\n",
    "summary = summary.rename(columns={'index':'Name'})\n",
    "summary['Null_Counts'] = data.isnull().sum().values\n",
    "summary['Uniques'] = data.nunique().values\n",
    "summary['Null_Percent'] = (summary['Null_Counts']*100) / len(data)\n",
    "summary.sort_values(by='Null_Percent', ascending=False, inplace=True)\n",
    "summary"
   ],
   "metadata": {
    "id": "xKhAkQCeSIpB",
    "ExecuteTime": {
     "end_time": "2024-07-06T15:19:01.900840Z",
     "start_time": "2024-07-06T15:19:01.888766Z"
    }
   },
   "outputs": [
    {
     "ename": "NameError",
     "evalue": "name 'data' is not defined",
     "output_type": "error",
     "traceback": [
      "\u001B[0;31m---------------------------------------------------------------------------\u001B[0m",
      "\u001B[0;31mNameError\u001B[0m                                 Traceback (most recent call last)",
      "Cell \u001B[0;32mIn[13], line 1\u001B[0m\n\u001B[0;32m----> 1\u001B[0m summary \u001B[38;5;241m=\u001B[39m pd\u001B[38;5;241m.\u001B[39mDataFrame(\u001B[43mdata\u001B[49m\u001B[38;5;241m.\u001B[39mdtypes, columns\u001B[38;5;241m=\u001B[39m[\u001B[38;5;124m'\u001B[39m\u001B[38;5;124mdtype\u001B[39m\u001B[38;5;124m'\u001B[39m])\n\u001B[1;32m      2\u001B[0m summary \u001B[38;5;241m=\u001B[39m summary\u001B[38;5;241m.\u001B[39mreset_index()\n\u001B[1;32m      3\u001B[0m summary \u001B[38;5;241m=\u001B[39m summary\u001B[38;5;241m.\u001B[39mrename(columns\u001B[38;5;241m=\u001B[39m{\u001B[38;5;124m'\u001B[39m\u001B[38;5;124mindex\u001B[39m\u001B[38;5;124m'\u001B[39m:\u001B[38;5;124m'\u001B[39m\u001B[38;5;124mName\u001B[39m\u001B[38;5;124m'\u001B[39m})\n",
      "\u001B[0;31mNameError\u001B[0m: name 'data' is not defined"
     ]
    }
   ],
   "execution_count": 13
  },
  {
   "cell_type": "markdown",
   "metadata": {
    "id": "tyc_ZOd_Ri5c"
   },
   "source": [
    "### Split dataset into train and test\n",
    "\n",
    "Separating the data into training and testing set before engineering. This is to avoid over-fitting. Need to set the seed."
   ]
  },
  {
   "cell_type": "code",
   "metadata": {
    "id": "g0ULUOl-Ri5g",
    "ExecuteTime": {
     "end_time": "2024-07-06T15:19:02.299284Z",
     "start_time": "2024-07-06T15:19:02.289574Z"
    }
   },
   "source": [
    "X_train, X_test, y_train, y_test = train_test_split(data.drop('SalePrice', axis=1),    # predictors\n",
    "                                                    data.SalePrice,                    # target\n",
    "                                                    test_size=0.1,\n",
    "                                                    random_state=0)                    # for reproducibility\n",
    "\n",
    "X_train.shape, X_test.shape, y_train.shape, y_test.shape"
   ],
   "outputs": [
    {
     "ename": "NameError",
     "evalue": "name 'train_test_split' is not defined",
     "output_type": "error",
     "traceback": [
      "\u001B[0;31m---------------------------------------------------------------------------\u001B[0m",
      "\u001B[0;31mNameError\u001B[0m                                 Traceback (most recent call last)",
      "Cell \u001B[0;32mIn[14], line 1\u001B[0m\n\u001B[0;32m----> 1\u001B[0m X_train, X_test, y_train, y_test \u001B[38;5;241m=\u001B[39m \u001B[43mtrain_test_split\u001B[49m(data\u001B[38;5;241m.\u001B[39mdrop(\u001B[38;5;124m'\u001B[39m\u001B[38;5;124mSalePrice\u001B[39m\u001B[38;5;124m'\u001B[39m, axis\u001B[38;5;241m=\u001B[39m\u001B[38;5;241m1\u001B[39m),    \u001B[38;5;66;03m# predictors\u001B[39;00m\n\u001B[1;32m      2\u001B[0m                                                     data\u001B[38;5;241m.\u001B[39mSalePrice,                    \u001B[38;5;66;03m# target\u001B[39;00m\n\u001B[1;32m      3\u001B[0m                                                     test_size\u001B[38;5;241m=\u001B[39m\u001B[38;5;241m0.1\u001B[39m,\n\u001B[1;32m      4\u001B[0m                                                     random_state\u001B[38;5;241m=\u001B[39m\u001B[38;5;241m0\u001B[39m)                    \u001B[38;5;66;03m# for reproducibility\u001B[39;00m\n\u001B[1;32m      6\u001B[0m X_train\u001B[38;5;241m.\u001B[39mshape, X_test\u001B[38;5;241m.\u001B[39mshape, y_train\u001B[38;5;241m.\u001B[39mshape, y_test\u001B[38;5;241m.\u001B[39mshape\n",
      "\u001B[0;31mNameError\u001B[0m: name 'train_test_split' is not defined"
     ]
    }
   ],
   "execution_count": 14
  },
  {
   "cell_type": "markdown",
   "metadata": {
    "id": "_3tbXUovRi5h"
   },
   "source": [
    "### Missing values\n",
    "* Separating Date, Numerical, and Categorical variables\n",
    "* Checking missing entries in each data type\n"
   ]
  },
  {
   "cell_type": "code",
   "metadata": {
    "scrolled": true,
    "id": "L6IeyolqRi5i",
    "ExecuteTime": {
     "end_time": "2024-07-06T15:19:06.228812Z",
     "start_time": "2024-07-06T15:19:06.219040Z"
    }
   },
   "source": [
    "vars_dates = ['YearBuilt', 'YearRemodAdd', 'GarageYrBlt']\n",
    "vars_cat = [var for var in X_train.columns if X_train[var].dtypes == 'O']              # categorical variable if the datatype is 'object'\n",
    "vars_num = [var for var in X_train.columns if X_train[var].dtypes !='O' and var not in ['Id']]"
   ],
   "outputs": [
    {
     "ename": "NameError",
     "evalue": "name 'X_train' is not defined",
     "output_type": "error",
     "traceback": [
      "\u001B[0;31m---------------------------------------------------------------------------\u001B[0m",
      "\u001B[0;31mNameError\u001B[0m                                 Traceback (most recent call last)",
      "Cell \u001B[0;32mIn[15], line 2\u001B[0m\n\u001B[1;32m      1\u001B[0m vars_dates \u001B[38;5;241m=\u001B[39m [\u001B[38;5;124m'\u001B[39m\u001B[38;5;124mYearBuilt\u001B[39m\u001B[38;5;124m'\u001B[39m, \u001B[38;5;124m'\u001B[39m\u001B[38;5;124mYearRemodAdd\u001B[39m\u001B[38;5;124m'\u001B[39m, \u001B[38;5;124m'\u001B[39m\u001B[38;5;124mGarageYrBlt\u001B[39m\u001B[38;5;124m'\u001B[39m]\n\u001B[0;32m----> 2\u001B[0m vars_cat \u001B[38;5;241m=\u001B[39m [var \u001B[38;5;28;01mfor\u001B[39;00m var \u001B[38;5;129;01min\u001B[39;00m \u001B[43mX_train\u001B[49m\u001B[38;5;241m.\u001B[39mcolumns \u001B[38;5;28;01mif\u001B[39;00m X_train[var]\u001B[38;5;241m.\u001B[39mdtypes \u001B[38;5;241m==\u001B[39m \u001B[38;5;124m'\u001B[39m\u001B[38;5;124mO\u001B[39m\u001B[38;5;124m'\u001B[39m]              \u001B[38;5;66;03m# categorical variable if the datatype is 'object'\u001B[39;00m\n\u001B[1;32m      3\u001B[0m vars_num \u001B[38;5;241m=\u001B[39m [var \u001B[38;5;28;01mfor\u001B[39;00m var \u001B[38;5;129;01min\u001B[39;00m X_train\u001B[38;5;241m.\u001B[39mcolumns \u001B[38;5;28;01mif\u001B[39;00m X_train[var]\u001B[38;5;241m.\u001B[39mdtypes \u001B[38;5;241m!=\u001B[39m\u001B[38;5;124m'\u001B[39m\u001B[38;5;124mO\u001B[39m\u001B[38;5;124m'\u001B[39m \u001B[38;5;129;01mand\u001B[39;00m var \u001B[38;5;129;01mnot\u001B[39;00m \u001B[38;5;129;01min\u001B[39;00m [\u001B[38;5;124m'\u001B[39m\u001B[38;5;124mId\u001B[39m\u001B[38;5;124m'\u001B[39m]]\n",
      "\u001B[0;31mNameError\u001B[0m: name 'X_train' is not defined"
     ]
    }
   ],
   "execution_count": 15
  },
  {
   "cell_type": "code",
   "metadata": {
    "id": "eJS1h8wBRi5j",
    "ExecuteTime": {
     "end_time": "2024-07-06T15:19:07.170367Z",
     "start_time": "2024-07-06T15:19:07.160559Z"
    }
   },
   "source": [
    "# Missing values in our date variables\n",
    "Date_V = X_train[vars_dates].isnull().mean().sort_values(ascending=False)\n",
    "Date_V"
   ],
   "outputs": [
    {
     "ename": "NameError",
     "evalue": "name 'X_train' is not defined",
     "output_type": "error",
     "traceback": [
      "\u001B[0;31m---------------------------------------------------------------------------\u001B[0m",
      "\u001B[0;31mNameError\u001B[0m                                 Traceback (most recent call last)",
      "Cell \u001B[0;32mIn[16], line 2\u001B[0m\n\u001B[1;32m      1\u001B[0m \u001B[38;5;66;03m# Missing values in our date variables\u001B[39;00m\n\u001B[0;32m----> 2\u001B[0m Date_V \u001B[38;5;241m=\u001B[39m \u001B[43mX_train\u001B[49m[vars_dates]\u001B[38;5;241m.\u001B[39misnull()\u001B[38;5;241m.\u001B[39mmean()\u001B[38;5;241m.\u001B[39msort_values(ascending\u001B[38;5;241m=\u001B[39m\u001B[38;5;28;01mFalse\u001B[39;00m)\n\u001B[1;32m      3\u001B[0m Date_V\n",
      "\u001B[0;31mNameError\u001B[0m: name 'X_train' is not defined"
     ]
    }
   ],
   "execution_count": 16
  },
  {
   "cell_type": "code",
   "source": [
    "# Visualize missing values in our date variables\n",
    "plt.figure(figsize=(7, 5))\n",
    "sns.barplot(x=Date_V.index, y=Date_V.values, hue=Date_V.index)\n",
    "plt.xlabel(\"Date features\")\n",
    "plt.ylabel(\"Missing values\")\n",
    "plt.show()"
   ],
   "metadata": {
    "id": "Xs4nBHFu3CZO",
    "ExecuteTime": {
     "end_time": "2024-07-06T15:19:08.096043Z",
     "start_time": "2024-07-06T15:19:08.087513Z"
    }
   },
   "outputs": [
    {
     "ename": "NameError",
     "evalue": "name 'plt' is not defined",
     "output_type": "error",
     "traceback": [
      "\u001B[0;31m---------------------------------------------------------------------------\u001B[0m",
      "\u001B[0;31mNameError\u001B[0m                                 Traceback (most recent call last)",
      "Cell \u001B[0;32mIn[17], line 2\u001B[0m\n\u001B[1;32m      1\u001B[0m \u001B[38;5;66;03m# Visualize missing values in our date variables\u001B[39;00m\n\u001B[0;32m----> 2\u001B[0m \u001B[43mplt\u001B[49m\u001B[38;5;241m.\u001B[39mfigure(figsize\u001B[38;5;241m=\u001B[39m(\u001B[38;5;241m7\u001B[39m, \u001B[38;5;241m5\u001B[39m))\n\u001B[1;32m      3\u001B[0m sns\u001B[38;5;241m.\u001B[39mbarplot(x\u001B[38;5;241m=\u001B[39mDate_V\u001B[38;5;241m.\u001B[39mindex, y\u001B[38;5;241m=\u001B[39mDate_V\u001B[38;5;241m.\u001B[39mvalues, hue\u001B[38;5;241m=\u001B[39mDate_V\u001B[38;5;241m.\u001B[39mindex)\n\u001B[1;32m      4\u001B[0m plt\u001B[38;5;241m.\u001B[39mxlabel(\u001B[38;5;124m\"\u001B[39m\u001B[38;5;124mDate features\u001B[39m\u001B[38;5;124m\"\u001B[39m)\n",
      "\u001B[0;31mNameError\u001B[0m: name 'plt' is not defined"
     ]
    }
   ],
   "execution_count": 17
  },
  {
   "cell_type": "code",
   "metadata": {
    "scrolled": true,
    "id": "HPFr7n-DRi5k",
    "ExecuteTime": {
     "end_time": "2024-07-06T15:19:09.018729Z",
     "start_time": "2024-07-06T15:19:09.008689Z"
    }
   },
   "source": [
    "# Missing values in our numerical variables\n",
    "Num_V = X_train[vars_num].isnull().mean().sort_values(ascending=False)\n",
    "print(Num_V)\n",
    "len(Num_V)"
   ],
   "outputs": [
    {
     "ename": "NameError",
     "evalue": "name 'X_train' is not defined",
     "output_type": "error",
     "traceback": [
      "\u001B[0;31m---------------------------------------------------------------------------\u001B[0m",
      "\u001B[0;31mNameError\u001B[0m                                 Traceback (most recent call last)",
      "Cell \u001B[0;32mIn[18], line 2\u001B[0m\n\u001B[1;32m      1\u001B[0m \u001B[38;5;66;03m# Missing values in our numerical variables\u001B[39;00m\n\u001B[0;32m----> 2\u001B[0m Num_V \u001B[38;5;241m=\u001B[39m \u001B[43mX_train\u001B[49m[vars_num]\u001B[38;5;241m.\u001B[39misnull()\u001B[38;5;241m.\u001B[39mmean()\u001B[38;5;241m.\u001B[39msort_values(ascending\u001B[38;5;241m=\u001B[39m\u001B[38;5;28;01mFalse\u001B[39;00m)\n\u001B[1;32m      3\u001B[0m \u001B[38;5;28mprint\u001B[39m(Num_V)\n\u001B[1;32m      4\u001B[0m \u001B[38;5;28mlen\u001B[39m(Num_V)\n",
      "\u001B[0;31mNameError\u001B[0m: name 'X_train' is not defined"
     ]
    }
   ],
   "execution_count": 18
  },
  {
   "cell_type": "code",
   "source": [
    "# Visualize missing values in our numerical variables\n",
    "plt.figure(figsize=(20, 5))\n",
    "sns.barplot(x=Num_V.index, y=Num_V.values, hue=Num_V.index)\n",
    "plt.xlabel(\"Numerical features\")\n",
    "plt.ylabel(\"Missing values\")\n",
    "plt.xticks(rotation=80)\n",
    "plt.show()"
   ],
   "metadata": {
    "id": "M3vs9Xxr3i77",
    "ExecuteTime": {
     "end_time": "2024-07-06T15:19:09.915484Z",
     "start_time": "2024-07-06T15:19:09.907963Z"
    }
   },
   "outputs": [
    {
     "ename": "NameError",
     "evalue": "name 'plt' is not defined",
     "output_type": "error",
     "traceback": [
      "\u001B[0;31m---------------------------------------------------------------------------\u001B[0m",
      "\u001B[0;31mNameError\u001B[0m                                 Traceback (most recent call last)",
      "Cell \u001B[0;32mIn[19], line 2\u001B[0m\n\u001B[1;32m      1\u001B[0m \u001B[38;5;66;03m# Visualize missing values in our numerical variables\u001B[39;00m\n\u001B[0;32m----> 2\u001B[0m \u001B[43mplt\u001B[49m\u001B[38;5;241m.\u001B[39mfigure(figsize\u001B[38;5;241m=\u001B[39m(\u001B[38;5;241m20\u001B[39m, \u001B[38;5;241m5\u001B[39m))\n\u001B[1;32m      3\u001B[0m sns\u001B[38;5;241m.\u001B[39mbarplot(x\u001B[38;5;241m=\u001B[39mNum_V\u001B[38;5;241m.\u001B[39mindex, y\u001B[38;5;241m=\u001B[39mNum_V\u001B[38;5;241m.\u001B[39mvalues, hue\u001B[38;5;241m=\u001B[39mNum_V\u001B[38;5;241m.\u001B[39mindex)\n\u001B[1;32m      4\u001B[0m plt\u001B[38;5;241m.\u001B[39mxlabel(\u001B[38;5;124m\"\u001B[39m\u001B[38;5;124mNumerical features\u001B[39m\u001B[38;5;124m\"\u001B[39m)\n",
      "\u001B[0;31mNameError\u001B[0m: name 'plt' is not defined"
     ]
    }
   ],
   "execution_count": 19
  },
  {
   "cell_type": "code",
   "metadata": {
    "scrolled": true,
    "id": "9_s9a5yrRi5l",
    "ExecuteTime": {
     "end_time": "2024-07-06T15:19:10.831367Z",
     "start_time": "2024-07-06T15:19:10.821997Z"
    }
   },
   "source": [
    "# Missing values in our categorical variables\n",
    "Cat_V = X_train[vars_cat].isnull().mean().sort_values(ascending=False)\n",
    "print(Cat_V)\n",
    "len(Cat_V)"
   ],
   "outputs": [
    {
     "ename": "NameError",
     "evalue": "name 'X_train' is not defined",
     "output_type": "error",
     "traceback": [
      "\u001B[0;31m---------------------------------------------------------------------------\u001B[0m",
      "\u001B[0;31mNameError\u001B[0m                                 Traceback (most recent call last)",
      "Cell \u001B[0;32mIn[20], line 2\u001B[0m\n\u001B[1;32m      1\u001B[0m \u001B[38;5;66;03m# Missing values in our categorical variables\u001B[39;00m\n\u001B[0;32m----> 2\u001B[0m Cat_V \u001B[38;5;241m=\u001B[39m \u001B[43mX_train\u001B[49m[vars_cat]\u001B[38;5;241m.\u001B[39misnull()\u001B[38;5;241m.\u001B[39mmean()\u001B[38;5;241m.\u001B[39msort_values(ascending\u001B[38;5;241m=\u001B[39m\u001B[38;5;28;01mFalse\u001B[39;00m)\n\u001B[1;32m      3\u001B[0m \u001B[38;5;28mprint\u001B[39m(Cat_V)\n\u001B[1;32m      4\u001B[0m \u001B[38;5;28mlen\u001B[39m(Cat_V)\n",
      "\u001B[0;31mNameError\u001B[0m: name 'X_train' is not defined"
     ]
    }
   ],
   "execution_count": 20
  },
  {
   "cell_type": "code",
   "source": [
    "# Visualize missing values in our categorical variables\n",
    "plt.figure(figsize=(20, 5))\n",
    "sns.barplot(x=Cat_V.index, y=Cat_V.values, hue=Cat_V.index)\n",
    "plt.xlabel(\"Categorical features\")\n",
    "plt.ylabel(\"Missing values\")\n",
    "plt.xticks(rotation=80)\n",
    "plt.show()"
   ],
   "metadata": {
    "id": "DKED-yaA34Dt",
    "ExecuteTime": {
     "end_time": "2024-07-06T15:19:11.777488Z",
     "start_time": "2024-07-06T15:19:11.768084Z"
    }
   },
   "outputs": [
    {
     "ename": "NameError",
     "evalue": "name 'plt' is not defined",
     "output_type": "error",
     "traceback": [
      "\u001B[0;31m---------------------------------------------------------------------------\u001B[0m",
      "\u001B[0;31mNameError\u001B[0m                                 Traceback (most recent call last)",
      "Cell \u001B[0;32mIn[21], line 2\u001B[0m\n\u001B[1;32m      1\u001B[0m \u001B[38;5;66;03m# Visualize missing values in our categorical variables\u001B[39;00m\n\u001B[0;32m----> 2\u001B[0m \u001B[43mplt\u001B[49m\u001B[38;5;241m.\u001B[39mfigure(figsize\u001B[38;5;241m=\u001B[39m(\u001B[38;5;241m20\u001B[39m, \u001B[38;5;241m5\u001B[39m))\n\u001B[1;32m      3\u001B[0m sns\u001B[38;5;241m.\u001B[39mbarplot(x\u001B[38;5;241m=\u001B[39mCat_V\u001B[38;5;241m.\u001B[39mindex, y\u001B[38;5;241m=\u001B[39mCat_V\u001B[38;5;241m.\u001B[39mvalues, hue\u001B[38;5;241m=\u001B[39mCat_V\u001B[38;5;241m.\u001B[39mindex)\n\u001B[1;32m      4\u001B[0m plt\u001B[38;5;241m.\u001B[39mxlabel(\u001B[38;5;124m\"\u001B[39m\u001B[38;5;124mCategorical features\u001B[39m\u001B[38;5;124m\"\u001B[39m)\n",
      "\u001B[0;31mNameError\u001B[0m: name 'plt' is not defined"
     ]
    }
   ],
   "execution_count": 21
  },
  {
   "cell_type": "markdown",
   "source": [
    "### Handling missing data through imputation"
   ],
   "metadata": {
    "id": "qSvrywUWL4Uw"
   }
  },
  {
   "cell_type": "code",
   "metadata": {
    "scrolled": true,
    "id": "j5Wgh4eJRi5m",
    "ExecuteTime": {
     "end_time": "2024-07-06T15:19:13.580574Z",
     "start_time": "2024-07-06T15:19:13.568408Z"
    }
   },
   "source": [
    "# Imputate numerical variables\n",
    "imputer = SimpleImputer(strategy='constant', fill_value=-1)\n",
    "X_train['LotFrontage'] = imputer.fit_transform(X_train['LotFrontage'].to_frame())\n",
    "X_test['LotFrontage'] = imputer.transform(X_test['LotFrontage'].to_frame())\n",
    "\n",
    "imputer = SimpleImputer(strategy='most_frequent')\n",
    "X_train[vars_num] = imputer.fit_transform(X_train[vars_num])\n",
    "X_test[vars_num] = imputer.transform(X_test[vars_num])"
   ],
   "outputs": [
    {
     "ename": "NameError",
     "evalue": "name 'SimpleImputer' is not defined",
     "output_type": "error",
     "traceback": [
      "\u001B[0;31m---------------------------------------------------------------------------\u001B[0m",
      "\u001B[0;31mNameError\u001B[0m                                 Traceback (most recent call last)",
      "Cell \u001B[0;32mIn[22], line 2\u001B[0m\n\u001B[1;32m      1\u001B[0m \u001B[38;5;66;03m# Imputate numerical variables\u001B[39;00m\n\u001B[0;32m----> 2\u001B[0m imputer \u001B[38;5;241m=\u001B[39m \u001B[43mSimpleImputer\u001B[49m(strategy\u001B[38;5;241m=\u001B[39m\u001B[38;5;124m'\u001B[39m\u001B[38;5;124mconstant\u001B[39m\u001B[38;5;124m'\u001B[39m, fill_value\u001B[38;5;241m=\u001B[39m\u001B[38;5;241m-\u001B[39m\u001B[38;5;241m1\u001B[39m)\n\u001B[1;32m      3\u001B[0m X_train[\u001B[38;5;124m'\u001B[39m\u001B[38;5;124mLotFrontage\u001B[39m\u001B[38;5;124m'\u001B[39m] \u001B[38;5;241m=\u001B[39m imputer\u001B[38;5;241m.\u001B[39mfit_transform(X_train[\u001B[38;5;124m'\u001B[39m\u001B[38;5;124mLotFrontage\u001B[39m\u001B[38;5;124m'\u001B[39m]\u001B[38;5;241m.\u001B[39mto_frame())\n\u001B[1;32m      4\u001B[0m X_test[\u001B[38;5;124m'\u001B[39m\u001B[38;5;124mLotFrontage\u001B[39m\u001B[38;5;124m'\u001B[39m] \u001B[38;5;241m=\u001B[39m imputer\u001B[38;5;241m.\u001B[39mtransform(X_test[\u001B[38;5;124m'\u001B[39m\u001B[38;5;124mLotFrontage\u001B[39m\u001B[38;5;124m'\u001B[39m]\u001B[38;5;241m.\u001B[39mto_frame())\n",
      "\u001B[0;31mNameError\u001B[0m: name 'SimpleImputer' is not defined"
     ]
    }
   ],
   "execution_count": 22
  },
  {
   "cell_type": "code",
   "metadata": {
    "id": "jShoycGlRi5n",
    "ExecuteTime": {
     "end_time": "2024-07-06T15:19:14.405354Z",
     "start_time": "2024-07-06T15:19:14.394733Z"
    }
   },
   "source": [
    "# Imputate categorical variables\n",
    "imputer = SimpleImputer(strategy='constant', fill_value='missing')\n",
    "X_train[vars_cat] = imputer.fit_transform(X_train[vars_cat])\n",
    "X_test[vars_cat] = imputer.transform(X_test[vars_cat])"
   ],
   "outputs": [
    {
     "ename": "NameError",
     "evalue": "name 'SimpleImputer' is not defined",
     "output_type": "error",
     "traceback": [
      "\u001B[0;31m---------------------------------------------------------------------------\u001B[0m",
      "\u001B[0;31mNameError\u001B[0m                                 Traceback (most recent call last)",
      "Cell \u001B[0;32mIn[23], line 2\u001B[0m\n\u001B[1;32m      1\u001B[0m \u001B[38;5;66;03m# Imputate categorical variables\u001B[39;00m\n\u001B[0;32m----> 2\u001B[0m imputer \u001B[38;5;241m=\u001B[39m \u001B[43mSimpleImputer\u001B[49m(strategy\u001B[38;5;241m=\u001B[39m\u001B[38;5;124m'\u001B[39m\u001B[38;5;124mconstant\u001B[39m\u001B[38;5;124m'\u001B[39m, fill_value\u001B[38;5;241m=\u001B[39m\u001B[38;5;124m'\u001B[39m\u001B[38;5;124mmissing\u001B[39m\u001B[38;5;124m'\u001B[39m)\n\u001B[1;32m      3\u001B[0m X_train[vars_cat] \u001B[38;5;241m=\u001B[39m imputer\u001B[38;5;241m.\u001B[39mfit_transform(X_train[vars_cat])\n\u001B[1;32m      4\u001B[0m X_test[vars_cat] \u001B[38;5;241m=\u001B[39m imputer\u001B[38;5;241m.\u001B[39mtransform(X_test[vars_cat])\n",
      "\u001B[0;31mNameError\u001B[0m: name 'SimpleImputer' is not defined"
     ]
    }
   ],
   "execution_count": 23
  },
  {
   "cell_type": "markdown",
   "metadata": {
    "id": "AIGSllEsRi5n"
   },
   "source": [
    "### Temporal features\n",
    "\n",
    "Extracting information from the data to capture the difference in years between the year in which the house was built, and the year in which the house was sold."
   ]
  },
  {
   "cell_type": "code",
   "metadata": {
    "id": "6SbdK27xRi5o",
    "ExecuteTime": {
     "end_time": "2024-07-06T15:19:15.520356Z",
     "start_time": "2024-07-06T15:19:15.518597Z"
    }
   },
   "source": [
    "# Create new temporal features from date variables\n",
    "def elapsed_years(df, var):\n",
    "    # capture difference between year variable and year the house was sold\n",
    "    df[var] = df['YrSold'] - df[var]\n",
    "    return df"
   ],
   "outputs": [],
   "execution_count": 24
  },
  {
   "cell_type": "code",
   "metadata": {
    "id": "3avmd931Ri5o",
    "ExecuteTime": {
     "end_time": "2024-07-06T15:19:16.101016Z",
     "start_time": "2024-07-06T15:19:16.089010Z"
    }
   },
   "source": [
    "# Apply it to both train and test set\n",
    "for var in ['YearBuilt', 'YearRemodAdd', 'GarageYrBlt']:\n",
    "    X_train = elapsed_years(X_train, var)\n",
    "    X_test = elapsed_years(X_test, var)"
   ],
   "outputs": [
    {
     "ename": "NameError",
     "evalue": "name 'X_train' is not defined",
     "output_type": "error",
     "traceback": [
      "\u001B[0;31m---------------------------------------------------------------------------\u001B[0m",
      "\u001B[0;31mNameError\u001B[0m                                 Traceback (most recent call last)",
      "Cell \u001B[0;32mIn[25], line 3\u001B[0m\n\u001B[1;32m      1\u001B[0m \u001B[38;5;66;03m# Apply it to both train and test set\u001B[39;00m\n\u001B[1;32m      2\u001B[0m \u001B[38;5;28;01mfor\u001B[39;00m var \u001B[38;5;129;01min\u001B[39;00m [\u001B[38;5;124m'\u001B[39m\u001B[38;5;124mYearBuilt\u001B[39m\u001B[38;5;124m'\u001B[39m, \u001B[38;5;124m'\u001B[39m\u001B[38;5;124mYearRemodAdd\u001B[39m\u001B[38;5;124m'\u001B[39m, \u001B[38;5;124m'\u001B[39m\u001B[38;5;124mGarageYrBlt\u001B[39m\u001B[38;5;124m'\u001B[39m]:\n\u001B[0;32m----> 3\u001B[0m     X_train \u001B[38;5;241m=\u001B[39m elapsed_years(\u001B[43mX_train\u001B[49m, var)\n\u001B[1;32m      4\u001B[0m     X_test \u001B[38;5;241m=\u001B[39m elapsed_years(X_test, var)\n",
      "\u001B[0;31mNameError\u001B[0m: name 'X_train' is not defined"
     ]
    }
   ],
   "execution_count": 25
  },
  {
   "cell_type": "code",
   "metadata": {
    "id": "1jvMOkp1Ri5o",
    "ExecuteTime": {
     "end_time": "2024-07-06T15:19:16.587921Z",
     "start_time": "2024-07-06T15:19:16.574842Z"
    }
   },
   "source": [
    "# Check that test set does not contain null values in the engineered variables\n",
    "[var for var in ['YearBuilt', 'YearRemodAdd', 'GarageYrBlt'] if X_test[var].isnull().sum() > 0]"
   ],
   "outputs": [
    {
     "ename": "NameError",
     "evalue": "name 'X_test' is not defined",
     "output_type": "error",
     "traceback": [
      "\u001B[0;31m---------------------------------------------------------------------------\u001B[0m",
      "\u001B[0;31mNameError\u001B[0m                                 Traceback (most recent call last)",
      "Cell \u001B[0;32mIn[26], line 2\u001B[0m\n\u001B[1;32m      1\u001B[0m \u001B[38;5;66;03m# Check that test set does not contain null values in the engineered variables\u001B[39;00m\n\u001B[0;32m----> 2\u001B[0m \u001B[43m[\u001B[49m\u001B[43mvar\u001B[49m\u001B[43m \u001B[49m\u001B[38;5;28;43;01mfor\u001B[39;49;00m\u001B[43m \u001B[49m\u001B[43mvar\u001B[49m\u001B[43m \u001B[49m\u001B[38;5;129;43;01min\u001B[39;49;00m\u001B[43m \u001B[49m\u001B[43m[\u001B[49m\u001B[38;5;124;43m'\u001B[39;49m\u001B[38;5;124;43mYearBuilt\u001B[39;49m\u001B[38;5;124;43m'\u001B[39;49m\u001B[43m,\u001B[49m\u001B[43m \u001B[49m\u001B[38;5;124;43m'\u001B[39;49m\u001B[38;5;124;43mYearRemodAdd\u001B[39;49m\u001B[38;5;124;43m'\u001B[39;49m\u001B[43m,\u001B[49m\u001B[43m \u001B[49m\u001B[38;5;124;43m'\u001B[39;49m\u001B[38;5;124;43mGarageYrBlt\u001B[39;49m\u001B[38;5;124;43m'\u001B[39;49m\u001B[43m]\u001B[49m\u001B[43m \u001B[49m\u001B[38;5;28;43;01mif\u001B[39;49;00m\u001B[43m \u001B[49m\u001B[43mX_test\u001B[49m\u001B[43m[\u001B[49m\u001B[43mvar\u001B[49m\u001B[43m]\u001B[49m\u001B[38;5;241;43m.\u001B[39;49m\u001B[43misnull\u001B[49m\u001B[43m(\u001B[49m\u001B[43m)\u001B[49m\u001B[38;5;241;43m.\u001B[39;49m\u001B[43msum\u001B[49m\u001B[43m(\u001B[49m\u001B[43m)\u001B[49m\u001B[43m \u001B[49m\u001B[38;5;241;43m>\u001B[39;49m\u001B[43m \u001B[49m\u001B[38;5;241;43m0\u001B[39;49m\u001B[43m]\u001B[49m\n",
      "Cell \u001B[0;32mIn[26], line 2\u001B[0m, in \u001B[0;36m<listcomp>\u001B[0;34m(.0)\u001B[0m\n\u001B[1;32m      1\u001B[0m \u001B[38;5;66;03m# Check that test set does not contain null values in the engineered variables\u001B[39;00m\n\u001B[0;32m----> 2\u001B[0m [var \u001B[38;5;28;01mfor\u001B[39;00m var \u001B[38;5;129;01min\u001B[39;00m [\u001B[38;5;124m'\u001B[39m\u001B[38;5;124mYearBuilt\u001B[39m\u001B[38;5;124m'\u001B[39m, \u001B[38;5;124m'\u001B[39m\u001B[38;5;124mYearRemodAdd\u001B[39m\u001B[38;5;124m'\u001B[39m, \u001B[38;5;124m'\u001B[39m\u001B[38;5;124mGarageYrBlt\u001B[39m\u001B[38;5;124m'\u001B[39m] \u001B[38;5;28;01mif\u001B[39;00m \u001B[43mX_test\u001B[49m[var]\u001B[38;5;241m.\u001B[39misnull()\u001B[38;5;241m.\u001B[39msum() \u001B[38;5;241m>\u001B[39m \u001B[38;5;241m0\u001B[39m]\n",
      "\u001B[0;31mNameError\u001B[0m: name 'X_test' is not defined"
     ]
    }
   ],
   "execution_count": 26
  },
  {
   "cell_type": "markdown",
   "metadata": {
    "id": "Wow9d8gqRi5p"
   },
   "source": [
    "### Checking for any Null still exists either in a train or test set"
   ]
  },
  {
   "cell_type": "code",
   "metadata": {
    "id": "w9eEOXswRi5p",
    "ExecuteTime": {
     "end_time": "2024-07-06T15:19:17.043231Z",
     "start_time": "2024-07-06T15:19:17.033960Z"
    }
   },
   "source": [
    "# Train set\n",
    "[var for var in X_train.columns if X_train[var].isnull().sum() > 0]"
   ],
   "outputs": [
    {
     "ename": "NameError",
     "evalue": "name 'X_train' is not defined",
     "output_type": "error",
     "traceback": [
      "\u001B[0;31m---------------------------------------------------------------------------\u001B[0m",
      "\u001B[0;31mNameError\u001B[0m                                 Traceback (most recent call last)",
      "Cell \u001B[0;32mIn[27], line 2\u001B[0m\n\u001B[1;32m      1\u001B[0m \u001B[38;5;66;03m# Train set\u001B[39;00m\n\u001B[0;32m----> 2\u001B[0m [var \u001B[38;5;28;01mfor\u001B[39;00m var \u001B[38;5;129;01min\u001B[39;00m \u001B[43mX_train\u001B[49m\u001B[38;5;241m.\u001B[39mcolumns \u001B[38;5;28;01mif\u001B[39;00m X_train[var]\u001B[38;5;241m.\u001B[39misnull()\u001B[38;5;241m.\u001B[39msum() \u001B[38;5;241m>\u001B[39m \u001B[38;5;241m0\u001B[39m]\n",
      "\u001B[0;31mNameError\u001B[0m: name 'X_train' is not defined"
     ]
    }
   ],
   "execution_count": 27
  },
  {
   "cell_type": "code",
   "metadata": {
    "id": "5H_bToZ2Ri5q",
    "ExecuteTime": {
     "end_time": "2024-07-06T15:19:17.301641Z",
     "start_time": "2024-07-06T15:19:17.293790Z"
    }
   },
   "source": [
    "# Test set\n",
    "[var for var in X_train.columns if X_test[var].isnull().sum() > 0]"
   ],
   "outputs": [
    {
     "ename": "NameError",
     "evalue": "name 'X_train' is not defined",
     "output_type": "error",
     "traceback": [
      "\u001B[0;31m---------------------------------------------------------------------------\u001B[0m",
      "\u001B[0;31mNameError\u001B[0m                                 Traceback (most recent call last)",
      "Cell \u001B[0;32mIn[28], line 2\u001B[0m\n\u001B[1;32m      1\u001B[0m \u001B[38;5;66;03m# Test set\u001B[39;00m\n\u001B[0;32m----> 2\u001B[0m [var \u001B[38;5;28;01mfor\u001B[39;00m var \u001B[38;5;129;01min\u001B[39;00m \u001B[43mX_train\u001B[49m\u001B[38;5;241m.\u001B[39mcolumns \u001B[38;5;28;01mif\u001B[39;00m X_test[var]\u001B[38;5;241m.\u001B[39misnull()\u001B[38;5;241m.\u001B[39msum() \u001B[38;5;241m>\u001B[39m \u001B[38;5;241m0\u001B[39m]\n",
      "\u001B[0;31mNameError\u001B[0m: name 'X_train' is not defined"
     ]
    }
   ],
   "execution_count": 28
  },
  {
   "cell_type": "markdown",
   "source": [
    "### Replacing  all rarely appearing categories with 'Rare':\n",
    "\n",
    "The `RareLabelEncoder()` groups rare or infrequent categories in a new category called “`Rare`”, or any other name entered by the user."
   ],
   "metadata": {
    "id": "ha_nkHBm7XxE"
   }
  },
  {
   "cell_type": "code",
   "metadata": {
    "id": "Q1hWazlzRi5q",
    "ExecuteTime": {
     "end_time": "2024-07-06T15:19:17.745095Z",
     "start_time": "2024-07-06T15:19:17.737159Z"
    }
   },
   "source": [
    "# Encode rare categories\n",
    "rare_enc = RareLabelEncoder(tol=0.01,  n_categories=5, variables = vars_cat)\n",
    "rare_enc.fit(X_train)\n",
    "X_train = rare_enc.transform(X_train)\n",
    "X_test = rare_enc.transform(X_test)"
   ],
   "outputs": [
    {
     "ename": "NameError",
     "evalue": "name 'RareLabelEncoder' is not defined",
     "output_type": "error",
     "traceback": [
      "\u001B[0;31m---------------------------------------------------------------------------\u001B[0m",
      "\u001B[0;31mNameError\u001B[0m                                 Traceback (most recent call last)",
      "Cell \u001B[0;32mIn[29], line 2\u001B[0m\n\u001B[1;32m      1\u001B[0m \u001B[38;5;66;03m# Encode rare categories\u001B[39;00m\n\u001B[0;32m----> 2\u001B[0m rare_enc \u001B[38;5;241m=\u001B[39m \u001B[43mRareLabelEncoder\u001B[49m(tol\u001B[38;5;241m=\u001B[39m\u001B[38;5;241m0.01\u001B[39m,  n_categories\u001B[38;5;241m=\u001B[39m\u001B[38;5;241m5\u001B[39m, variables \u001B[38;5;241m=\u001B[39m vars_cat)\n\u001B[1;32m      3\u001B[0m rare_enc\u001B[38;5;241m.\u001B[39mfit(X_train)\n\u001B[1;32m      4\u001B[0m X_train \u001B[38;5;241m=\u001B[39m rare_enc\u001B[38;5;241m.\u001B[39mtransform(X_train)\n",
      "\u001B[0;31mNameError\u001B[0m: name 'RareLabelEncoder' is not defined"
     ]
    }
   ],
   "execution_count": 29
  },
  {
   "cell_type": "markdown",
   "source": [
    "### Checking for rare categories"
   ],
   "metadata": {
    "id": "zwaGHtEpOkRi"
   }
  },
  {
   "cell_type": "code",
   "source": [
    "cat_dic = {}\n",
    "for i in vars_cat:\n",
    "    print(pd.DataFrame(X_train[vars_cat][i].value_counts() / 1460))"
   ],
   "metadata": {
    "id": "c_eMQeIM_Tfu",
    "ExecuteTime": {
     "end_time": "2024-07-06T15:19:18.158512Z",
     "start_time": "2024-07-06T15:19:18.149632Z"
    }
   },
   "outputs": [
    {
     "ename": "NameError",
     "evalue": "name 'vars_cat' is not defined",
     "output_type": "error",
     "traceback": [
      "\u001B[0;31m---------------------------------------------------------------------------\u001B[0m",
      "\u001B[0;31mNameError\u001B[0m                                 Traceback (most recent call last)",
      "Cell \u001B[0;32mIn[30], line 2\u001B[0m\n\u001B[1;32m      1\u001B[0m cat_dic \u001B[38;5;241m=\u001B[39m {}\n\u001B[0;32m----> 2\u001B[0m \u001B[38;5;28;01mfor\u001B[39;00m i \u001B[38;5;129;01min\u001B[39;00m \u001B[43mvars_cat\u001B[49m:\n\u001B[1;32m      3\u001B[0m     \u001B[38;5;28mprint\u001B[39m(pd\u001B[38;5;241m.\u001B[39mDataFrame(X_train[vars_cat][i]\u001B[38;5;241m.\u001B[39mvalue_counts() \u001B[38;5;241m/\u001B[39m \u001B[38;5;241m1460\u001B[39m))\n",
      "\u001B[0;31mNameError\u001B[0m: name 'vars_cat' is not defined"
     ]
    }
   ],
   "execution_count": 30
  },
  {
   "cell_type": "markdown",
   "source": [
    "### Encoding of Categorical variables\n",
    "\n",
    "Transform the string values of categorical variables into numerical values."
   ],
   "metadata": {
    "id": "GPfdKZgSO3o6"
   }
  },
  {
   "cell_type": "code",
   "metadata": {
    "id": "bwIt5DR1Ri5r",
    "ExecuteTime": {
     "end_time": "2024-07-06T15:19:18.592700Z",
     "start_time": "2024-07-06T15:19:18.581748Z"
    }
   },
   "source": [
    "# Encode with labels\n",
    "ordinal_enc = OrdinalEncoder_Sk()\n",
    "X_train[vars_cat] = ordinal_enc.fit_transform(X_train[vars_cat])\n",
    "X_test[vars_cat] = ordinal_enc.transform(X_test[vars_cat])"
   ],
   "outputs": [
    {
     "ename": "NameError",
     "evalue": "name 'OrdinalEncoder_Sk' is not defined",
     "output_type": "error",
     "traceback": [
      "\u001B[0;31m---------------------------------------------------------------------------\u001B[0m",
      "\u001B[0;31mNameError\u001B[0m                                 Traceback (most recent call last)",
      "Cell \u001B[0;32mIn[31], line 2\u001B[0m\n\u001B[1;32m      1\u001B[0m \u001B[38;5;66;03m# Encode with labels\u001B[39;00m\n\u001B[0;32m----> 2\u001B[0m ordinal_enc \u001B[38;5;241m=\u001B[39m \u001B[43mOrdinalEncoder_Sk\u001B[49m()\n\u001B[1;32m      3\u001B[0m X_train[vars_cat] \u001B[38;5;241m=\u001B[39m ordinal_enc\u001B[38;5;241m.\u001B[39mfit_transform(X_train[vars_cat])\n\u001B[1;32m      4\u001B[0m X_test[vars_cat] \u001B[38;5;241m=\u001B[39m ordinal_enc\u001B[38;5;241m.\u001B[39mtransform(X_test[vars_cat])\n",
      "\u001B[0;31mNameError\u001B[0m: name 'OrdinalEncoder_Sk' is not defined"
     ]
    }
   ],
   "execution_count": 31
  },
  {
   "cell_type": "code",
   "metadata": {
    "id": "6dJmVFYdRi5r",
    "ExecuteTime": {
     "end_time": "2024-07-06T15:19:18.815438Z",
     "start_time": "2024-07-06T15:19:18.808576Z"
    }
   },
   "source": [
    "# Check any null values in test set\n",
    "[var for var in X_train.columns if X_test[var].isnull().sum() > 0]"
   ],
   "outputs": [
    {
     "ename": "NameError",
     "evalue": "name 'X_train' is not defined",
     "output_type": "error",
     "traceback": [
      "\u001B[0;31m---------------------------------------------------------------------------\u001B[0m",
      "\u001B[0;31mNameError\u001B[0m                                 Traceback (most recent call last)",
      "Cell \u001B[0;32mIn[32], line 2\u001B[0m\n\u001B[1;32m      1\u001B[0m \u001B[38;5;66;03m# Check any null values in test set\u001B[39;00m\n\u001B[0;32m----> 2\u001B[0m [var \u001B[38;5;28;01mfor\u001B[39;00m var \u001B[38;5;129;01min\u001B[39;00m \u001B[43mX_train\u001B[49m\u001B[38;5;241m.\u001B[39mcolumns \u001B[38;5;28;01mif\u001B[39;00m X_test[var]\u001B[38;5;241m.\u001B[39misnull()\u001B[38;5;241m.\u001B[39msum() \u001B[38;5;241m>\u001B[39m \u001B[38;5;241m0\u001B[39m]\n",
      "\u001B[0;31mNameError\u001B[0m: name 'X_train' is not defined"
     ]
    }
   ],
   "execution_count": 32
  },
  {
   "cell_type": "markdown",
   "source": [
    "### Building Pipeline for Pre-Processing\n",
    "\n",
    "All the pre-processing steps above can be implemented inside Pre-Processing Pipeline. Building a pipeline removes the dual task of hard coding for the same operation on the train and test set separately. Apart from this, it helps in the automation of testing and deployment without much human intervention."
   ],
   "metadata": {
    "id": "ZJ3Mi87Ew2Va"
   }
  },
  {
   "cell_type": "markdown",
   "source": [
    "#### Creating Class for temporal transformation that is compatible with SK_learn pipeline:\n",
    "\n",
    "In the pre-processing steps above, a function was created to calculate the year elapsed. Now we are converting that function into a class suitable for inserting inside the pipeline."
   ],
   "metadata": {
    "id": "2bOXf5UQj_jb"
   }
  },
  {
   "cell_type": "code",
   "source": [
    "from sklearn.base import BaseEstimator, TransformerMixin\n",
    "\n",
    "class TemporalVariableTransformer(BaseEstimator, TransformerMixin):\n",
    "\t# Temporal elapsed time transformer\n",
    "\n",
    "    def __init__(self, variables, reference_variable):\n",
    "\n",
    "        if not isinstance(variables, list):\n",
    "            raise ValueError('variables should be a list')\n",
    "\n",
    "        self.variables = variables\n",
    "        self.reference_variable = reference_variable\n",
    "\n",
    "    def fit(self, X, y=None):\n",
    "        # we need this step to fit the sklearn pipeline\n",
    "        return self\n",
    "\n",
    "    def transform(self, X):\n",
    "\n",
    "    \t# so that we do not over-write the original dataframe\n",
    "        X = X.copy()\n",
    "\n",
    "        for feature in self.variables:\n",
    "            X[feature] = X[self.reference_variable] - X[feature]\n",
    "\n",
    "        return X\n"
   ],
   "metadata": {
    "id": "hkxLIP5nkLFN",
    "ExecuteTime": {
     "end_time": "2024-07-06T15:19:19.741147Z",
     "start_time": "2024-07-06T15:19:19.503008Z"
    }
   },
   "outputs": [
    {
     "name": "stderr",
     "output_type": "stream",
     "text": [
      "/Library/Frameworks/Python.framework/Versions/3.11/lib/python3.11/site-packages/sklearn/utils/__init__.py:15: UserWarning: A NumPy version >=1.23.5 and <2.3.0 is required for this version of SciPy (detected version 1.23.2)\n",
      "  from scipy.sparse import issparse\n"
     ]
    }
   ],
   "execution_count": 33
  },
  {
   "cell_type": "markdown",
   "source": [
    "#### Building the Pre-Processing pipeline"
   ],
   "metadata": {
    "id": "ak80o0g81mnI"
   }
  },
  {
   "cell_type": "code",
   "source": [
    "price_pipe = Pipeline([\n",
    "\n",
    "    # ===== IMPUTATION =====\n",
    "    # impute numerical variables with the ArbitraryNumberImputer\n",
    "    ('ArbitraryNumber_imputation', ArbitraryNumberImputer( arbitrary_number=-1, variables='LotFrontage' )),\n",
    "\n",
    "     # impute numerical variables with the mostfrequent\n",
    "    ('frequentNumber_imputation', CategoricalImputer(imputation_method='frequent', variables=vars_num, ignore_format=True)),\n",
    "\n",
    "    # impute categorical variables with string missing\n",
    "    ('missing_imputation', CategoricalImputer(imputation_method='missing', variables=vars_cat)),\n",
    "\n",
    "    # == TEMPORAL VARIABLES ====\n",
    "    ('elapsed_time', TemporalVariableTransformer(\n",
    "        variables=['YearBuilt', 'YearRemodAdd', 'GarageYrBlt'], reference_variable='YrSold')),\n",
    "\n",
    "    ('drop_features', DropFeatures(features_to_drop=['YearBuilt', 'YearRemodAdd', 'GarageYrBlt'])),\n",
    "\n",
    "      # == CATEGORICAL ENCODING\n",
    "    ('rare_label_encoder', RareLabelEncoder(tol=0.01, n_categories=5, variables=vars_cat)),\n",
    "\n",
    "    # encode categorical and discrete variables using the target mean\n",
    "    ('categorical_encoder', OrdinalEncoder(encoding_method='ordered', variables=vars_cat)), #\n",
    "\n",
    "])"
   ],
   "metadata": {
    "id": "GImUVVjhZaj3",
    "ExecuteTime": {
     "end_time": "2024-07-06T15:19:20.086162Z",
     "start_time": "2024-07-06T15:19:20.061272Z"
    }
   },
   "outputs": [
    {
     "ename": "NameError",
     "evalue": "name 'Pipeline' is not defined",
     "output_type": "error",
     "traceback": [
      "\u001B[0;31m---------------------------------------------------------------------------\u001B[0m",
      "\u001B[0;31mNameError\u001B[0m                                 Traceback (most recent call last)",
      "Cell \u001B[0;32mIn[34], line 1\u001B[0m\n\u001B[0;32m----> 1\u001B[0m price_pipe \u001B[38;5;241m=\u001B[39m \u001B[43mPipeline\u001B[49m([\n\u001B[1;32m      2\u001B[0m \n\u001B[1;32m      3\u001B[0m     \u001B[38;5;66;03m# ===== IMPUTATION =====\u001B[39;00m\n\u001B[1;32m      4\u001B[0m     \u001B[38;5;66;03m# impute numerical variables with the ArbitraryNumberImputer\u001B[39;00m\n\u001B[1;32m      5\u001B[0m     (\u001B[38;5;124m'\u001B[39m\u001B[38;5;124mArbitraryNumber_imputation\u001B[39m\u001B[38;5;124m'\u001B[39m, ArbitraryNumberImputer( arbitrary_number\u001B[38;5;241m=\u001B[39m\u001B[38;5;241m-\u001B[39m\u001B[38;5;241m1\u001B[39m, variables\u001B[38;5;241m=\u001B[39m\u001B[38;5;124m'\u001B[39m\u001B[38;5;124mLotFrontage\u001B[39m\u001B[38;5;124m'\u001B[39m )),\n\u001B[1;32m      6\u001B[0m \n\u001B[1;32m      7\u001B[0m      \u001B[38;5;66;03m# impute numerical variables with the mostfrequent\u001B[39;00m\n\u001B[1;32m      8\u001B[0m     (\u001B[38;5;124m'\u001B[39m\u001B[38;5;124mfrequentNumber_imputation\u001B[39m\u001B[38;5;124m'\u001B[39m, CategoricalImputer(imputation_method\u001B[38;5;241m=\u001B[39m\u001B[38;5;124m'\u001B[39m\u001B[38;5;124mfrequent\u001B[39m\u001B[38;5;124m'\u001B[39m, variables\u001B[38;5;241m=\u001B[39mvars_num, ignore_format\u001B[38;5;241m=\u001B[39m\u001B[38;5;28;01mTrue\u001B[39;00m)),\n\u001B[1;32m      9\u001B[0m \n\u001B[1;32m     10\u001B[0m     \u001B[38;5;66;03m# impute categorical variables with string missing\u001B[39;00m\n\u001B[1;32m     11\u001B[0m     (\u001B[38;5;124m'\u001B[39m\u001B[38;5;124mmissing_imputation\u001B[39m\u001B[38;5;124m'\u001B[39m, CategoricalImputer(imputation_method\u001B[38;5;241m=\u001B[39m\u001B[38;5;124m'\u001B[39m\u001B[38;5;124mmissing\u001B[39m\u001B[38;5;124m'\u001B[39m, variables\u001B[38;5;241m=\u001B[39mvars_cat)),\n\u001B[1;32m     12\u001B[0m \n\u001B[1;32m     13\u001B[0m     \u001B[38;5;66;03m# == TEMPORAL VARIABLES ====\u001B[39;00m\n\u001B[1;32m     14\u001B[0m     (\u001B[38;5;124m'\u001B[39m\u001B[38;5;124melapsed_time\u001B[39m\u001B[38;5;124m'\u001B[39m, TemporalVariableTransformer(\n\u001B[1;32m     15\u001B[0m         variables\u001B[38;5;241m=\u001B[39m[\u001B[38;5;124m'\u001B[39m\u001B[38;5;124mYearBuilt\u001B[39m\u001B[38;5;124m'\u001B[39m, \u001B[38;5;124m'\u001B[39m\u001B[38;5;124mYearRemodAdd\u001B[39m\u001B[38;5;124m'\u001B[39m, \u001B[38;5;124m'\u001B[39m\u001B[38;5;124mGarageYrBlt\u001B[39m\u001B[38;5;124m'\u001B[39m], reference_variable\u001B[38;5;241m=\u001B[39m\u001B[38;5;124m'\u001B[39m\u001B[38;5;124mYrSold\u001B[39m\u001B[38;5;124m'\u001B[39m)),\n\u001B[1;32m     16\u001B[0m \n\u001B[1;32m     17\u001B[0m     (\u001B[38;5;124m'\u001B[39m\u001B[38;5;124mdrop_features\u001B[39m\u001B[38;5;124m'\u001B[39m, DropFeatures(features_to_drop\u001B[38;5;241m=\u001B[39m[\u001B[38;5;124m'\u001B[39m\u001B[38;5;124mYearBuilt\u001B[39m\u001B[38;5;124m'\u001B[39m, \u001B[38;5;124m'\u001B[39m\u001B[38;5;124mYearRemodAdd\u001B[39m\u001B[38;5;124m'\u001B[39m, \u001B[38;5;124m'\u001B[39m\u001B[38;5;124mGarageYrBlt\u001B[39m\u001B[38;5;124m'\u001B[39m])),\n\u001B[1;32m     18\u001B[0m \n\u001B[1;32m     19\u001B[0m       \u001B[38;5;66;03m# == CATEGORICAL ENCODING\u001B[39;00m\n\u001B[1;32m     20\u001B[0m     (\u001B[38;5;124m'\u001B[39m\u001B[38;5;124mrare_label_encoder\u001B[39m\u001B[38;5;124m'\u001B[39m, RareLabelEncoder(tol\u001B[38;5;241m=\u001B[39m\u001B[38;5;241m0.01\u001B[39m, n_categories\u001B[38;5;241m=\u001B[39m\u001B[38;5;241m5\u001B[39m, variables\u001B[38;5;241m=\u001B[39mvars_cat)),\n\u001B[1;32m     21\u001B[0m \n\u001B[1;32m     22\u001B[0m     \u001B[38;5;66;03m# encode categorical and discrete variables using the target mean\u001B[39;00m\n\u001B[1;32m     23\u001B[0m     (\u001B[38;5;124m'\u001B[39m\u001B[38;5;124mcategorical_encoder\u001B[39m\u001B[38;5;124m'\u001B[39m, OrdinalEncoder(encoding_method\u001B[38;5;241m=\u001B[39m\u001B[38;5;124m'\u001B[39m\u001B[38;5;124mordered\u001B[39m\u001B[38;5;124m'\u001B[39m, variables\u001B[38;5;241m=\u001B[39mvars_cat)), \u001B[38;5;66;03m#\u001B[39;00m\n\u001B[1;32m     24\u001B[0m \n\u001B[1;32m     25\u001B[0m ])\n",
      "\u001B[0;31mNameError\u001B[0m: name 'Pipeline' is not defined"
     ]
    }
   ],
   "execution_count": 34
  },
  {
   "cell_type": "markdown",
   "source": [
    "Since we have already done pre-processing before the pipeline, we can't apply the pipeline to pre-preprocessed data. To apply the pipeline, copy the same train-test split cell again here so that we can get un-processed data as a train and test set."
   ],
   "metadata": {
    "id": "dLRLcrnqDCj8"
   }
  },
  {
   "cell_type": "code",
   "source": [
    "X_train, X_test, y_train, y_test = train_test_split(data.drop('SalePrice', axis=1), # predictors\n",
    "                                                    data.SalePrice, # target\n",
    "                                                    test_size=0.1,\n",
    "                                                    random_state=0)  # for reproducibility\n",
    "\n",
    "X_train.shape, X_test.shape, y_train.shape, y_test.shape"
   ],
   "metadata": {
    "id": "zZXrqNkFDLDc",
    "ExecuteTime": {
     "end_time": "2024-07-06T15:19:20.567794Z",
     "start_time": "2024-07-06T15:19:20.556401Z"
    }
   },
   "outputs": [
    {
     "ename": "NameError",
     "evalue": "name 'train_test_split' is not defined",
     "output_type": "error",
     "traceback": [
      "\u001B[0;31m---------------------------------------------------------------------------\u001B[0m",
      "\u001B[0;31mNameError\u001B[0m                                 Traceback (most recent call last)",
      "Cell \u001B[0;32mIn[35], line 1\u001B[0m\n\u001B[0;32m----> 1\u001B[0m X_train, X_test, y_train, y_test \u001B[38;5;241m=\u001B[39m \u001B[43mtrain_test_split\u001B[49m(data\u001B[38;5;241m.\u001B[39mdrop(\u001B[38;5;124m'\u001B[39m\u001B[38;5;124mSalePrice\u001B[39m\u001B[38;5;124m'\u001B[39m, axis\u001B[38;5;241m=\u001B[39m\u001B[38;5;241m1\u001B[39m), \u001B[38;5;66;03m# predictors\u001B[39;00m\n\u001B[1;32m      2\u001B[0m                                                     data\u001B[38;5;241m.\u001B[39mSalePrice, \u001B[38;5;66;03m# target\u001B[39;00m\n\u001B[1;32m      3\u001B[0m                                                     test_size\u001B[38;5;241m=\u001B[39m\u001B[38;5;241m0.1\u001B[39m,\n\u001B[1;32m      4\u001B[0m                                                     random_state\u001B[38;5;241m=\u001B[39m\u001B[38;5;241m0\u001B[39m)  \u001B[38;5;66;03m# for reproducibility\u001B[39;00m\n\u001B[1;32m      6\u001B[0m X_train\u001B[38;5;241m.\u001B[39mshape, X_test\u001B[38;5;241m.\u001B[39mshape, y_train\u001B[38;5;241m.\u001B[39mshape, y_test\u001B[38;5;241m.\u001B[39mshape\n",
      "\u001B[0;31mNameError\u001B[0m: name 'train_test_split' is not defined"
     ]
    }
   ],
   "execution_count": 35
  },
  {
   "cell_type": "markdown",
   "source": [
    "### Finally applying pipeline in train & test set"
   ],
   "metadata": {
    "id": "J7XELxoNeU11"
   }
  },
  {
   "cell_type": "code",
   "source": [
    "price_pipe.fit(X_train,y_train) # Fitting"
   ],
   "metadata": {
    "id": "IvRKC1sunUcG",
    "ExecuteTime": {
     "end_time": "2024-07-06T15:19:21.038201Z",
     "start_time": "2024-07-06T15:19:21.026860Z"
    }
   },
   "outputs": [
    {
     "ename": "NameError",
     "evalue": "name 'price_pipe' is not defined",
     "output_type": "error",
     "traceback": [
      "\u001B[0;31m---------------------------------------------------------------------------\u001B[0m",
      "\u001B[0;31mNameError\u001B[0m                                 Traceback (most recent call last)",
      "Cell \u001B[0;32mIn[36], line 1\u001B[0m\n\u001B[0;32m----> 1\u001B[0m \u001B[43mprice_pipe\u001B[49m\u001B[38;5;241m.\u001B[39mfit(X_train,y_train) \u001B[38;5;66;03m# Fitting\u001B[39;00m\n",
      "\u001B[0;31mNameError\u001B[0m: name 'price_pipe' is not defined"
     ]
    }
   ],
   "execution_count": 36
  },
  {
   "cell_type": "code",
   "source": [
    "X_train_tfr = price_pipe.transform(X_train)        # Transformation for train set"
   ],
   "metadata": {
    "id": "tBj1tLiPr_Q5",
    "ExecuteTime": {
     "end_time": "2024-07-06T15:19:21.274274Z",
     "start_time": "2024-07-06T15:19:21.267008Z"
    }
   },
   "outputs": [
    {
     "ename": "NameError",
     "evalue": "name 'price_pipe' is not defined",
     "output_type": "error",
     "traceback": [
      "\u001B[0;31m---------------------------------------------------------------------------\u001B[0m",
      "\u001B[0;31mNameError\u001B[0m                                 Traceback (most recent call last)",
      "Cell \u001B[0;32mIn[37], line 1\u001B[0m\n\u001B[0;32m----> 1\u001B[0m X_train_tfr \u001B[38;5;241m=\u001B[39m \u001B[43mprice_pipe\u001B[49m\u001B[38;5;241m.\u001B[39mtransform(X_train)        \u001B[38;5;66;03m# Transformation for train set\u001B[39;00m\n",
      "\u001B[0;31mNameError\u001B[0m: name 'price_pipe' is not defined"
     ]
    }
   ],
   "execution_count": 37
  },
  {
   "cell_type": "code",
   "source": [
    "X_test_tfr = price_pipe.transform(X_test)          # Transformation for test set"
   ],
   "metadata": {
    "id": "dimU04TXu1Y6",
    "ExecuteTime": {
     "end_time": "2024-07-06T15:19:22.182132Z",
     "start_time": "2024-07-06T15:19:22.172428Z"
    }
   },
   "outputs": [
    {
     "ename": "NameError",
     "evalue": "name 'price_pipe' is not defined",
     "output_type": "error",
     "traceback": [
      "\u001B[0;31m---------------------------------------------------------------------------\u001B[0m",
      "\u001B[0;31mNameError\u001B[0m                                 Traceback (most recent call last)",
      "Cell \u001B[0;32mIn[38], line 1\u001B[0m\n\u001B[0;32m----> 1\u001B[0m X_test_tfr \u001B[38;5;241m=\u001B[39m \u001B[43mprice_pipe\u001B[49m\u001B[38;5;241m.\u001B[39mtransform(X_test)          \u001B[38;5;66;03m# Transformation for test set\u001B[39;00m\n",
      "\u001B[0;31mNameError\u001B[0m: name 'price_pipe' is not defined"
     ]
    }
   ],
   "execution_count": 38
  },
  {
   "cell_type": "code",
   "source": [
    "X_train_tfr"
   ],
   "metadata": {
    "id": "gy0F_FcFn1XS",
    "ExecuteTime": {
     "end_time": "2024-07-06T15:19:22.381390Z",
     "start_time": "2024-07-06T15:19:22.374347Z"
    }
   },
   "outputs": [
    {
     "ename": "NameError",
     "evalue": "name 'X_train_tfr' is not defined",
     "output_type": "error",
     "traceback": [
      "\u001B[0;31m---------------------------------------------------------------------------\u001B[0m",
      "\u001B[0;31mNameError\u001B[0m                                 Traceback (most recent call last)",
      "Cell \u001B[0;32mIn[39], line 1\u001B[0m\n\u001B[0;32m----> 1\u001B[0m \u001B[43mX_train_tfr\u001B[49m\n",
      "\u001B[0;31mNameError\u001B[0m: name 'X_train_tfr' is not defined"
     ]
    }
   ],
   "execution_count": 39
  },
  {
   "cell_type": "markdown",
   "metadata": {
    "id": "U4ijnrccRi5s"
   },
   "source": [
    "## XG-Boost Regressor"
   ]
  },
  {
   "cell_type": "code",
   "source": [
    "# Create an xgboost regression model\n",
    "model = xgb.XGBRegressor(n_estimators=100, max_depth=7, eta=0.1, subsample=0.7, colsample_bytree=0.8, objective='reg:squarederror', random_state=0)"
   ],
   "metadata": {
    "id": "zQBQbsHVV54x"
   },
   "execution_count": null,
   "outputs": []
  },
  {
   "cell_type": "markdown",
   "source": [
    "**Note :**  Good hyperparameter values can be found by trial and error for a given dataset, or systematic experimentation such as using a grid search across a range of values.\n",
    "\n",
    "**The most commonly configured hyperparameters are the following:**\n",
    "\n",
    "**n_estimators:** The number of trees in the ensemble, often increased until no further improvements are seen.\n",
    "\n",
    "**max_depth:** The maximum depth of each tree, often values are between 1 and 10.\n",
    "\n",
    "**eta:** The learning rate used to weight each model, often set to small values such as 0.3, 0.1, 0.01, or smaller.\n",
    "\n",
    "**subsample:** The number of samples (rows) used in each tree, set to a value between 0 and 1, often 1.0 to use all samples.\n",
    "\n",
    "**colsample_bytree:** Number of features (columns) used in each tree, set to a value between 0 and 1, often 1.0 to use all features.\n",
    "\n",
    "**XGBoost Parameters Detail** - [Ref.](https://xgboost.readthedocs.io/en/stable/parameter.html)"
   ],
   "metadata": {
    "id": "HGL8DRTo6vsy"
   }
  },
  {
   "cell_type": "code",
   "execution_count": null,
   "metadata": {
    "id": "UE2HaP5bRi5t"
   },
   "outputs": [],
   "source": [
    "# Train on training set\n",
    "model.fit(X_train_tfr, y_train)"
   ]
  },
  {
   "cell_type": "code",
   "execution_count": null,
   "metadata": {
    "id": "W1tgIJV_Ri5u"
   },
   "outputs": [],
   "source": [
    "# Evaluate the model:\n",
    "# Evaluate performance using the mean squared error and the root of the mean squared error\n",
    "pred = model.predict(X_train_tfr)\n",
    "print('linear train mse: {}'.format(mean_squared_error(y_train, pred)))\n",
    "print('linear train rmse: {}'.format(sqrt(mean_squared_error(y_train, pred))))\n",
    "print()\n",
    "\n",
    "pred = model.predict(X_test_tfr)\n",
    "print('linear test mse: {}'.format(mean_squared_error(y_test, pred)))\n",
    "print('linear test rmse: {}'.format(sqrt(mean_squared_error(y_test, pred))))"
   ]
  },
  {
   "cell_type": "code",
   "execution_count": null,
   "metadata": {
    "id": "FyzYPzpeRi5w"
   },
   "outputs": [],
   "source": [
    "# Evaluating predictions with respect to the original price\n",
    "plt.scatter(y_test, model.predict(X_test_tfr))\n",
    "plt.xlabel('True House Price')\n",
    "plt.ylabel('Predicted House Price')\n",
    "plt.title('Evaluation of XGBoost Predictions')\n",
    "plt.show()"
   ]
  },
  {
   "cell_type": "markdown",
   "source": [
    "### Displaying the feature importance value given by the XG-Boost model"
   ],
   "metadata": {
    "id": "BF2hhXufQaib"
   }
  },
  {
   "cell_type": "code",
   "source": [
    "# List features\n",
    "print(X_train_tfr.columns.to_list())"
   ],
   "metadata": {
    "id": "ybgswOPrwqrc"
   },
   "execution_count": null,
   "outputs": []
  },
  {
   "cell_type": "code",
   "source": [
    "# Feature importance given by XGB\n",
    "print(model.feature_importances_)"
   ],
   "metadata": {
    "id": "jp0I-BaWwZjb"
   },
   "execution_count": null,
   "outputs": []
  },
  {
   "cell_type": "code",
   "source": [
    "# Feature Importance in dataframe\n",
    "dfeature = pd.DataFrame({'Var': X_train_tfr.columns.to_list(),\n",
    "                         'Importance': model.feature_importances_}).sort_values(by='Importance', ascending=False)\n",
    "dfeature"
   ],
   "metadata": {
    "id": "7LWko7t2w1ck"
   },
   "execution_count": null,
   "outputs": []
  },
  {
   "cell_type": "code",
   "source": [
    "# Plot bar plot showing feature importances\n",
    "plt.figure(figsize=(24, 6))\n",
    "sns.barplot(x=dfeature['Var'], y=dfeature['Importance'], hue=dfeature['Var'])\n",
    "plt.xticks(rotation=80)\n",
    "plt.show()"
   ],
   "metadata": {
    "id": "H4ePqHsHwWm4"
   },
   "execution_count": null,
   "outputs": []
  },
  {
   "cell_type": "markdown",
   "source": [
    "We can pick features having the highest feature importance values,  for example choosing the top 15:"
   ],
   "metadata": {
    "id": "oDNTKoGiRUrE"
   }
  },
  {
   "cell_type": "code",
   "source": [
    "# Top 15 features\n",
    "dfeature[:16]['Var'].to_list()"
   ],
   "metadata": {
    "id": "YoDi3vLgR_5k"
   },
   "execution_count": null,
   "outputs": []
  },
  {
   "cell_type": "markdown",
   "metadata": {
    "id": "iQzwhzZURi5x"
   },
   "source": [
    "## Feature Selection\n",
    "\n",
    "Above manual selection of best features can be done automatically using Scikit-Learn's `SelectFromModel` class. Here, we need to specify the model which has `feature_importances_` or `coef_` attribute after fitting, then train it."
   ]
  },
  {
   "cell_type": "code",
   "execution_count": null,
   "metadata": {
    "id": "FK2o6MIbRi5x"
   },
   "outputs": [],
   "source": [
    "# Feature selection using SelectFromModel, with XGBoost Regressor\n",
    "\n",
    "sel_ = SelectFromModel(xgb.XGBRegressor(n_estimators=150, objective='reg:squarederror', random_state=0))\n",
    "sel_.fit(X_train_tfr, y_train)"
   ]
  },
  {
   "cell_type": "code",
   "execution_count": null,
   "metadata": {
    "id": "W6CYlp3PRi5y"
   },
   "outputs": [],
   "source": [
    "# Show the number of total features and selected features\n",
    "selected_feat = X_train_tfr.columns[(sel_.get_support())]\n",
    "print('total features: {}'.format((X_train_tfr.shape[1])))\n",
    "print('selected features: {}'.format(len(selected_feat)))"
   ]
  },
  {
   "cell_type": "code",
   "execution_count": null,
   "metadata": {
    "id": "-ssLdy2nRi5y"
   },
   "outputs": [],
   "source": [
    "selected_feat"
   ]
  },
  {
   "cell_type": "markdown",
   "metadata": {
    "id": "Yu_HHEGhRi5z"
   },
   "source": [
    "## Re-build model with selected features"
   ]
  },
  {
   "cell_type": "code",
   "source": [
    "model.fit(X_train_tfr[selected_feat], y_train)"
   ],
   "metadata": {
    "id": "H6qaw4BfXkRK"
   },
   "execution_count": null,
   "outputs": []
  },
  {
   "cell_type": "code",
   "source": [
    "# Evaluate performance using the mean squared error and the root of the mean squared error\n",
    "pred = model.predict(X_train_tfr[selected_feat])\n",
    "print('linear train mse: {}'.format(mean_squared_error(y_train, pred)))\n",
    "print('linear train rmse: {}'.format(sqrt(mean_squared_error(y_train, pred))))\n",
    "print()\n",
    "pred = model.predict(X_test_tfr[selected_feat])\n",
    "print('linear test mse: {}'.format(mean_squared_error(y_test, pred)))\n",
    "print('linear test rmse: {}'.format(sqrt(mean_squared_error(y_test, pred))))"
   ],
   "metadata": {
    "id": "qx0NGU2V1swN"
   },
   "execution_count": null,
   "outputs": []
  },
  {
   "cell_type": "markdown",
   "source": [
    "### Evaluating predictions with respect to the original price"
   ],
   "metadata": {
    "id": "cH8uAMlNYgCq"
   }
  },
  {
   "cell_type": "code",
   "source": [
    "# Evaluating predictions with respect to the original price\n",
    "plt.scatter(y_test, model.predict(X_test_tfr[selected_feat]))\n",
    "plt.xlabel('True House Price')\n",
    "plt.ylabel('Predicted House Price')\n",
    "plt.title('Evaluation of XGBoost Predictions')"
   ],
   "metadata": {
    "id": "-vxoss6OYfkd"
   },
   "execution_count": null,
   "outputs": []
  },
  {
   "cell_type": "markdown",
   "source": [
    "## Training XGBoost without Pre-Processing\n",
    "\n",
    "XGBoost can handle categorical variable( [Ref.](https://xgboost.readthedocs.io/en/stable/tutorials/categorical.html) )and supports missing values by default. In tree algorithms, branch directions for missing values are learned during training. Note that the gblinear booster treats missing values as zeros. When the missing parameter is specifed, values in the input predictor that is equal to missing will be treated as missing and removed. By default it’s set to NaN.Considering the same we are going to train without pre-processing and compare the result.([Ref.](https://xgboost.readthedocs.io/en/stable/faq.html))"
   ],
   "metadata": {
    "id": "ru62nz22uWPg"
   }
  },
  {
   "cell_type": "code",
   "source": [
    "data_no_pro = pd.read_csv('housing_dataset.csv')\n",
    "print(data.shape)\n",
    "data_no_pro.head()"
   ],
   "metadata": {
    "id": "H8BAJ4MVufQS"
   },
   "execution_count": null,
   "outputs": []
  },
  {
   "cell_type": "code",
   "source": [
    "vars_cat = [var for var in X_train.columns if X_train[var].dtypes == 'O']"
   ],
   "metadata": {
    "id": "HlzXDAUwulTz"
   },
   "execution_count": null,
   "outputs": []
  },
  {
   "cell_type": "code",
   "source": [
    "data_no_pro[vars_cat] = data_no_pro[vars_cat].apply(lambda x: x.astype('category'))"
   ],
   "metadata": {
    "id": "_1asePBpumS7"
   },
   "execution_count": null,
   "outputs": []
  },
  {
   "cell_type": "code",
   "source": [
    "X_train, X_test, y_train, y_test = train_test_split(data_no_pro.drop('SalePrice', axis=1), # predictors\n",
    "                                                    data_no_pro.SalePrice, # target\n",
    "                                                    test_size=0.1,\n",
    "                                                    random_state=0)  # for reproducibility\n",
    "\n",
    "X_train.shape, X_test.shape, y_train.shape, y_test.shape"
   ],
   "metadata": {
    "id": "9cp66KF1uqF8"
   },
   "execution_count": null,
   "outputs": []
  },
  {
   "cell_type": "markdown",
   "source": [
    "### Temporal features\n",
    "Extracting information from the data to capture the difference in years between the year in which the house was built, and the year in which the house was sold."
   ],
   "metadata": {
    "id": "GloaGcj0utsL"
   }
  },
  {
   "cell_type": "code",
   "source": [
    "# Create new temporal features from date variables\n",
    "def elapsed_years(df, var):\n",
    "    # capture difference between year variable and year the house was sold\n",
    "    df[var] = df['YrSold'] - df[var]\n",
    "    return df"
   ],
   "metadata": {
    "id": "Lnx4D40AuyHM"
   },
   "execution_count": null,
   "outputs": []
  },
  {
   "cell_type": "code",
   "source": [
    "# Apply it to both train and test set\n",
    "for var in ['YearBuilt', 'YearRemodAdd', 'GarageYrBlt']:\n",
    "    X_train = elapsed_years(X_train, var)\n",
    "    X_test = elapsed_years(X_test, var)"
   ],
   "metadata": {
    "id": "IrNgY3HQu2Q2"
   },
   "execution_count": null,
   "outputs": []
  },
  {
   "cell_type": "code",
   "source": [
    "X_train=X_train.drop(columns=['YearBuilt', 'YearRemodAdd', 'GarageYrBlt'])\n",
    "X_test=X_test.drop(columns=['YearBuilt', 'YearRemodAdd', 'GarageYrBlt'])"
   ],
   "metadata": {
    "id": "h0vBsbmqxUh1"
   },
   "execution_count": null,
   "outputs": []
  },
  {
   "cell_type": "markdown",
   "source": [
    "###Modelling with unprocessed features\n",
    "\n"
   ],
   "metadata": {
    "id": "38f1h3Abu6P5"
   }
  },
  {
   "cell_type": "code",
   "source": [
    "# Create an xgboost regression model\n",
    "model_no_pro = xgb.XGBRegressor(n_estimators=100,max_depth=6, eta=0.1, subsample=0.7, colsample_bytree=0.8, objective='reg:squarederror', random_state=0, enable_categorical=True, tree_method='approx')"
   ],
   "metadata": {
    "id": "cQuZNIteu2Wu"
   },
   "execution_count": null,
   "outputs": []
  },
  {
   "cell_type": "code",
   "source": [
    "# Train on training set\n",
    "model_no_pro.fit(X_train, y_train)"
   ],
   "metadata": {
    "id": "GryNYUnBu_Ca"
   },
   "execution_count": null,
   "outputs": []
  },
  {
   "cell_type": "markdown",
   "source": [
    "**Note - Hyperparameters:**   **enable_categorical** - [Ref.](https://xgboost.readthedocs.io/en/stable/tutorials/categorical.html), **tree_method** - [Ref.](https://xgboost.readthedocs.io/en/stable/parameter.html)"
   ],
   "metadata": {
    "id": "WIu0tDfWyaQ5"
   }
  },
  {
   "cell_type": "code",
   "source": [
    "# Evaluate the model:\n",
    "# Evaluate performance using the mean squared error and the root of the mean squared error\n",
    "pred = model_no_pro.predict(X_train)\n",
    "print('linear train mse: {}'.format(mean_squared_error(y_train, pred)))\n",
    "print('linear train rmse: {}'.format(sqrt(mean_squared_error(y_train, pred))))\n",
    "print()\n",
    "pred = model_no_pro.predict(X_test)\n",
    "print('linear test mse: {}'.format(mean_squared_error(y_test, pred)))\n",
    "print('linear test rmse: {}'.format(sqrt(mean_squared_error(y_test, pred))))"
   ],
   "metadata": {
    "id": "_cBP0JkfvEFz"
   },
   "execution_count": null,
   "outputs": []
  },
  {
   "cell_type": "markdown",
   "metadata": {
    "id": "VHfHdGCP_n6Y"
   },
   "source": [
    "### Please answer the questions below to complete the experiment:\n",
    "\n",
    "\n"
   ]
  },
  {
   "cell_type": "code",
   "execution_count": null,
   "metadata": {
    "id": "VgSwVENIPcM6"
   },
   "outputs": [],
   "source": [
    "#@title  Which of the following is/are the hyperparameter/s used in XG-Boost? { run: \"auto\", form-width: \"500px\", display-mode: \"form\" }\n",
    "Answer = \"\" #@param [\"\", \"learning_rate(eta)\", \"min_split_loss(gamma)\", \"max_depth\", \"All of the above\"]"
   ]
  },
  {
   "cell_type": "code",
   "execution_count": null,
   "metadata": {
    "id": "NMzKSbLIgFzQ"
   },
   "outputs": [],
   "source": [
    "#@title How was the experiment? { run: \"auto\", form-width: \"500px\", display-mode: \"form\" }\n",
    "Complexity = \"\" #@param [\"\",\"Too Simple, I am wasting time\", \"Good, But Not Challenging for me\", \"Good and Challenging for me\", \"Was Tough, but I did it\", \"Too Difficult for me\"]\n"
   ]
  },
  {
   "cell_type": "code",
   "execution_count": null,
   "metadata": {
    "id": "DjcH1VWSFI2l"
   },
   "outputs": [],
   "source": [
    "#@title If it was too easy, what more would you have liked to be added? If it was very difficult, what would you have liked to have been removed? { run: \"auto\", display-mode: \"form\" }\n",
    "Additional = \"\" #@param {type:\"string\"}\n"
   ]
  },
  {
   "cell_type": "code",
   "execution_count": null,
   "metadata": {
    "id": "4VBk_4VTAxCM"
   },
   "outputs": [],
   "source": [
    "#@title Can you identify the concepts from the lecture which this experiment covered? { run: \"auto\", vertical-output: true, display-mode: \"form\" }\n",
    "Concepts = \"\" #@param [\"\",\"Yes\", \"No\"]\n"
   ]
  },
  {
   "cell_type": "code",
   "execution_count": null,
   "metadata": {
    "id": "XH91cL1JWH7m"
   },
   "outputs": [],
   "source": [
    "#@title  Text and image description/explanation and code comments within the experiment: { run: \"auto\", vertical-output: true, display-mode: \"form\" }\n",
    "Comments = \"\" #@param [\"\",\"Very Useful\", \"Somewhat Useful\", \"Not Useful\", \"Didn't use\"]\n"
   ]
  },
  {
   "cell_type": "code",
   "execution_count": null,
   "metadata": {
    "id": "z8xLqj7VWIKW"
   },
   "outputs": [],
   "source": [
    "#@title Mentor Support: { run: \"auto\", vertical-output: true, display-mode: \"form\" }\n",
    "Mentor_support = \"\" #@param [\"\",\"Very Useful\", \"Somewhat Useful\", \"Not Useful\", \"Didn't use\"]\n"
   ]
  },
  {
   "cell_type": "code",
   "execution_count": null,
   "metadata": {
    "cellView": "form",
    "id": "FzAZHt1zw-Y-"
   },
   "outputs": [],
   "source": [
    "#@title Run this cell to submit your notebook for grading { vertical-output: true }\n",
    "try:\n",
    "  if submission_id:\n",
    "      return_id = submit_notebook()\n",
    "      if return_id : submission_id = return_id\n",
    "  else:\n",
    "      print(\"Please complete the setup first.\")\n",
    "except NameError:\n",
    "  print (\"Please complete the setup first.\")"
   ]
  }
 ],
 "metadata": {
  "kernelspec": {
   "display_name": "Python 3",
   "language": "python",
   "name": "python3"
  },
  "language_info": {
   "codemirror_mode": {
    "name": "ipython",
    "version": 3
   },
   "file_extension": ".py",
   "mimetype": "text/x-python",
   "name": "python",
   "nbconvert_exporter": "python",
   "pygments_lexer": "ipython3",
   "version": "3.7.6"
  },
  "toc": {
   "nav_menu": {},
   "number_sections": true,
   "sideBar": true,
   "skip_h1_title": false,
   "toc_cell": false,
   "toc_position": {
    "height": "583px",
    "left": "0px",
    "right": "1324px",
    "top": "107px",
    "width": "212px"
   },
   "toc_section_display": "block",
   "toc_window_display": true
  },
  "colab": {
   "provenance": []
  }
 },
 "nbformat": 4,
 "nbformat_minor": 0
}
